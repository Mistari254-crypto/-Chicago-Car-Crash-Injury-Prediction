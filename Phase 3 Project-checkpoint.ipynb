{
 "cells": [
  {
   "cell_type": "markdown",
   "metadata": {},
   "source": [
    "## Phase 3 Project"
   ]
  },
  {
   "cell_type": "markdown",
   "metadata": {},
   "source": [
    "### Project Overview"
   ]
  },
  {
   "cell_type": "markdown",
   "metadata": {},
   "source": [
    "Objectives\n",
    "\n",
    "This project aims to develop a classification model to support data-driven crash prevention and safety planning in Chicago. Specifically, the goals are:\n",
    "\n",
    "Predict Injury or Fatality Risk\n",
    "Build a machine learning model that predicts whether a crash is likely to result in an injury or fatality using features such as crash time, weather, road surface condition, and vehicle involvement.\n",
    "\n",
    "Identify High-Risk Crash Conditions\n",
    "Use feature importance and exploratory analysis to uncover patterns or conditions most associated with injury-related crashes (e.g., lighting conditions, number of vehicles, road types).\n",
    "\n",
    "Support Targeted Safety Interventions\n",
    "Enable policymakers, traffic safety officials, and emergency services to make more informed decisions regarding enforcement, education, and infrastructure investments.\n",
    "\n"
   ]
  },
  {
   "cell_type": "markdown",
   "metadata": {},
   "source": [
    "## 1. Business Understanding\n",
    "Stakeholder:\n",
    "City of Chicago Department of Transportation and traffic safety planners.\n",
    "\n",
    "Traffic crashes result in considerable human, social, and financial costs. For cities like Chicago, minimizing the impact of motor vehicle crashes is a public safety priority.\n",
    "\n",
    "Why this project matters:\n",
    "\n",
    "Lives can be saved by understanding and anticipating high-risk crash situations.\n",
    "\n",
    "City resources (e.g., speed cameras, patrols, signage) can be better allocated with predictive insights.\n",
    "\n",
    "Evidence-based planning can improve how city planners and safety engineers design roads and safety policies.\n",
    "\n",
    "Classification Target:\n",
    "INJURY_OR_FATAL (binary: 1 = injury/fatality, 0 = no injury)\n",
    "\n"
   ]
  },
  {
   "cell_type": "markdown",
   "metadata": {},
   "source": [
    "## 2. Data Understanding\n",
    "The dataset used is the Chicago Traffic Crashes – Crashes dataset from the City of Chicago Data Portal. It includes detailed reports of vehicle crashes with over 1 million records.\n",
    "Typical features in the dataset:\n",
    "\n",
    "CRASH_DATE, POSTED_SPEED_LIMIT, TRAFFIC_CONTROL_DEVICE, WEATHER_CONDITION, ROAD_SURFACE_CONDITION, LIGHTING_CONDITION\n",
    "\n",
    "Driver-related: PRIM_CONTRIBUTORY_CAUSE, ALCOHOL, DRUGS, DRIVER_ACTION\n",
    "\n",
    "Location: LATITUDE, LONGITUDE, STREET_NAME\n",
    "\n",
    "Target: INJURY_OR_FATAL\n",
    "\n"
   ]
  },
  {
   "cell_type": "markdown",
   "metadata": {},
   "source": [
    "Data Considerations\n",
    "\n",
    "Highly imbalanced target variable (few injury/fatal crashes relative to total)\n",
    "\n",
    "Contains categorical and numerical variables\n",
    "\n",
    "Requires encoding, missing value handling, and scaling\n",
    "\n"
   ]
  },
  {
   "cell_type": "markdown",
   "metadata": {},
   "source": [
    "## 3. Data Preparation and Analysis\n",
    "\n",
    "Importing Relevant Libraries\n",
    "We start by importing the following libraries: NumPy, Pandas, SQLite, Matplotlib and Seaborn\n",
    "\n"
   ]
  },
  {
   "cell_type": "code",
   "execution_count": 1,
   "metadata": {},
   "outputs": [],
   "source": [
    "# importing necessary libraries\n",
    "import numpy as np\n",
    "import pandas as pd\n",
    "import sqlite3\n",
    "import matplotlib.pyplot as plt\n",
    "import seaborn as sns"
   ]
  },
  {
   "cell_type": "code",
   "execution_count": 2,
   "metadata": {
    "scrolled": true
   },
   "outputs": [
    {
     "data": {
      "text/html": [
       "<div>\n",
       "<style scoped>\n",
       "    .dataframe tbody tr th:only-of-type {\n",
       "        vertical-align: middle;\n",
       "    }\n",
       "\n",
       "    .dataframe tbody tr th {\n",
       "        vertical-align: top;\n",
       "    }\n",
       "\n",
       "    .dataframe thead th {\n",
       "        text-align: right;\n",
       "    }\n",
       "</style>\n",
       "<table border=\"1\" class=\"dataframe\">\n",
       "  <thead>\n",
       "    <tr style=\"text-align: right;\">\n",
       "      <th></th>\n",
       "      <th>CRASH_RECORD_ID</th>\n",
       "      <th>CRASH_DATE_EST_I</th>\n",
       "      <th>CRASH_DATE</th>\n",
       "      <th>POSTED_SPEED_LIMIT</th>\n",
       "      <th>TRAFFIC_CONTROL_DEVICE</th>\n",
       "      <th>DEVICE_CONDITION</th>\n",
       "      <th>WEATHER_CONDITION</th>\n",
       "      <th>LIGHTING_CONDITION</th>\n",
       "      <th>FIRST_CRASH_TYPE</th>\n",
       "      <th>TRAFFICWAY_TYPE</th>\n",
       "      <th>...</th>\n",
       "      <th>INJURIES_NON_INCAPACITATING</th>\n",
       "      <th>INJURIES_REPORTED_NOT_EVIDENT</th>\n",
       "      <th>INJURIES_NO_INDICATION</th>\n",
       "      <th>INJURIES_UNKNOWN</th>\n",
       "      <th>CRASH_HOUR</th>\n",
       "      <th>CRASH_DAY_OF_WEEK</th>\n",
       "      <th>CRASH_MONTH</th>\n",
       "      <th>LATITUDE</th>\n",
       "      <th>LONGITUDE</th>\n",
       "      <th>LOCATION</th>\n",
       "    </tr>\n",
       "  </thead>\n",
       "  <tbody>\n",
       "    <tr>\n",
       "      <th>0</th>\n",
       "      <td>01184614b08579d6befa7734427e750d0f10e79dc0aa42...</td>\n",
       "      <td>NaN</td>\n",
       "      <td>04/04/2025 01:57:00 AM</td>\n",
       "      <td>15</td>\n",
       "      <td>NO CONTROLS</td>\n",
       "      <td>NO CONTROLS</td>\n",
       "      <td>CLEAR</td>\n",
       "      <td>DARKNESS, LIGHTED ROAD</td>\n",
       "      <td>ANGLE</td>\n",
       "      <td>PARKING LOT</td>\n",
       "      <td>...</td>\n",
       "      <td>0.0</td>\n",
       "      <td>0.0</td>\n",
       "      <td>2.0</td>\n",
       "      <td>0.0</td>\n",
       "      <td>1</td>\n",
       "      <td>6</td>\n",
       "      <td>4</td>\n",
       "      <td>41.766021</td>\n",
       "      <td>-87.572442</td>\n",
       "      <td>POINT (-87.572442196614 41.766020695126)</td>\n",
       "    </tr>\n",
       "    <tr>\n",
       "      <th>1</th>\n",
       "      <td>01db2b5a81860ebd2fa3f4564ba0de00508847313ce23a...</td>\n",
       "      <td>NaN</td>\n",
       "      <td>04/24/2025 08:40:00 PM</td>\n",
       "      <td>10</td>\n",
       "      <td>NO CONTROLS</td>\n",
       "      <td>NO CONTROLS</td>\n",
       "      <td>CLEAR</td>\n",
       "      <td>DAYLIGHT</td>\n",
       "      <td>REAR TO SIDE</td>\n",
       "      <td>PARKING LOT</td>\n",
       "      <td>...</td>\n",
       "      <td>0.0</td>\n",
       "      <td>0.0</td>\n",
       "      <td>2.0</td>\n",
       "      <td>0.0</td>\n",
       "      <td>20</td>\n",
       "      <td>5</td>\n",
       "      <td>4</td>\n",
       "      <td>41.875048</td>\n",
       "      <td>-87.744921</td>\n",
       "      <td>POINT (-87.744921303711 41.875047815678)</td>\n",
       "    </tr>\n",
       "    <tr>\n",
       "      <th>2</th>\n",
       "      <td>0583b2385710470c0a1bc80417d095512e3d04d6f26158...</td>\n",
       "      <td>NaN</td>\n",
       "      <td>04/24/2025 05:45:00 AM</td>\n",
       "      <td>30</td>\n",
       "      <td>TRAFFIC SIGNAL</td>\n",
       "      <td>FUNCTIONING PROPERLY</td>\n",
       "      <td>CLEAR</td>\n",
       "      <td>DAWN</td>\n",
       "      <td>TURNING</td>\n",
       "      <td>NOT DIVIDED</td>\n",
       "      <td>...</td>\n",
       "      <td>0.0</td>\n",
       "      <td>0.0</td>\n",
       "      <td>2.0</td>\n",
       "      <td>0.0</td>\n",
       "      <td>5</td>\n",
       "      <td>5</td>\n",
       "      <td>4</td>\n",
       "      <td>41.981238</td>\n",
       "      <td>-87.806997</td>\n",
       "      <td>POINT (-87.806997368434 41.981238161467)</td>\n",
       "    </tr>\n",
       "    <tr>\n",
       "      <th>3</th>\n",
       "      <td>05d78a76ea643730a5771ac904b43c56236f332b42db0e...</td>\n",
       "      <td>NaN</td>\n",
       "      <td>04/24/2025 11:13:00 AM</td>\n",
       "      <td>30</td>\n",
       "      <td>NO CONTROLS</td>\n",
       "      <td>NO CONTROLS</td>\n",
       "      <td>CLEAR</td>\n",
       "      <td>DAYLIGHT</td>\n",
       "      <td>FIXED OBJECT</td>\n",
       "      <td>ALLEY</td>\n",
       "      <td>...</td>\n",
       "      <td>0.0</td>\n",
       "      <td>1.0</td>\n",
       "      <td>0.0</td>\n",
       "      <td>0.0</td>\n",
       "      <td>11</td>\n",
       "      <td>5</td>\n",
       "      <td>4</td>\n",
       "      <td>41.742295</td>\n",
       "      <td>-87.652157</td>\n",
       "      <td>POINT (-87.652156998855 41.742294907932)</td>\n",
       "    </tr>\n",
       "    <tr>\n",
       "      <th>4</th>\n",
       "      <td>00a530520c84927490b597a6220ff3f2a3347472ef3086...</td>\n",
       "      <td>NaN</td>\n",
       "      <td>01/15/2025 01:50:00 PM</td>\n",
       "      <td>30</td>\n",
       "      <td>NO CONTROLS</td>\n",
       "      <td>NO CONTROLS</td>\n",
       "      <td>CLEAR</td>\n",
       "      <td>DAYLIGHT</td>\n",
       "      <td>FIXED OBJECT</td>\n",
       "      <td>RAMP</td>\n",
       "      <td>...</td>\n",
       "      <td>0.0</td>\n",
       "      <td>0.0</td>\n",
       "      <td>1.0</td>\n",
       "      <td>0.0</td>\n",
       "      <td>13</td>\n",
       "      <td>4</td>\n",
       "      <td>1</td>\n",
       "      <td>41.816073</td>\n",
       "      <td>-87.656743</td>\n",
       "      <td>POINT (-87.656742699936 41.816073475493)</td>\n",
       "    </tr>\n",
       "  </tbody>\n",
       "</table>\n",
       "<p>5 rows × 48 columns</p>\n",
       "</div>"
      ],
      "text/plain": [
       "                                     CRASH_RECORD_ID CRASH_DATE_EST_I  \\\n",
       "0  01184614b08579d6befa7734427e750d0f10e79dc0aa42...              NaN   \n",
       "1  01db2b5a81860ebd2fa3f4564ba0de00508847313ce23a...              NaN   \n",
       "2  0583b2385710470c0a1bc80417d095512e3d04d6f26158...              NaN   \n",
       "3  05d78a76ea643730a5771ac904b43c56236f332b42db0e...              NaN   \n",
       "4  00a530520c84927490b597a6220ff3f2a3347472ef3086...              NaN   \n",
       "\n",
       "               CRASH_DATE  POSTED_SPEED_LIMIT TRAFFIC_CONTROL_DEVICE  \\\n",
       "0  04/04/2025 01:57:00 AM                  15            NO CONTROLS   \n",
       "1  04/24/2025 08:40:00 PM                  10            NO CONTROLS   \n",
       "2  04/24/2025 05:45:00 AM                  30         TRAFFIC SIGNAL   \n",
       "3  04/24/2025 11:13:00 AM                  30            NO CONTROLS   \n",
       "4  01/15/2025 01:50:00 PM                  30            NO CONTROLS   \n",
       "\n",
       "       DEVICE_CONDITION WEATHER_CONDITION      LIGHTING_CONDITION  \\\n",
       "0           NO CONTROLS             CLEAR  DARKNESS, LIGHTED ROAD   \n",
       "1           NO CONTROLS             CLEAR                DAYLIGHT   \n",
       "2  FUNCTIONING PROPERLY             CLEAR                    DAWN   \n",
       "3           NO CONTROLS             CLEAR                DAYLIGHT   \n",
       "4           NO CONTROLS             CLEAR                DAYLIGHT   \n",
       "\n",
       "  FIRST_CRASH_TYPE TRAFFICWAY_TYPE  ...  INJURIES_NON_INCAPACITATING  \\\n",
       "0            ANGLE     PARKING LOT  ...                          0.0   \n",
       "1     REAR TO SIDE     PARKING LOT  ...                          0.0   \n",
       "2          TURNING     NOT DIVIDED  ...                          0.0   \n",
       "3     FIXED OBJECT           ALLEY  ...                          0.0   \n",
       "4     FIXED OBJECT            RAMP  ...                          0.0   \n",
       "\n",
       "  INJURIES_REPORTED_NOT_EVIDENT INJURIES_NO_INDICATION INJURIES_UNKNOWN  \\\n",
       "0                           0.0                    2.0              0.0   \n",
       "1                           0.0                    2.0              0.0   \n",
       "2                           0.0                    2.0              0.0   \n",
       "3                           1.0                    0.0              0.0   \n",
       "4                           0.0                    1.0              0.0   \n",
       "\n",
       "  CRASH_HOUR CRASH_DAY_OF_WEEK CRASH_MONTH   LATITUDE  LONGITUDE  \\\n",
       "0          1                 6           4  41.766021 -87.572442   \n",
       "1         20                 5           4  41.875048 -87.744921   \n",
       "2          5                 5           4  41.981238 -87.806997   \n",
       "3         11                 5           4  41.742295 -87.652157   \n",
       "4         13                 4           1  41.816073 -87.656743   \n",
       "\n",
       "                                   LOCATION  \n",
       "0  POINT (-87.572442196614 41.766020695126)  \n",
       "1  POINT (-87.744921303711 41.875047815678)  \n",
       "2  POINT (-87.806997368434 41.981238161467)  \n",
       "3  POINT (-87.652156998855 41.742294907932)  \n",
       "4  POINT (-87.656742699936 41.816073475493)  \n",
       "\n",
       "[5 rows x 48 columns]"
      ]
     },
     "execution_count": 2,
     "metadata": {},
     "output_type": "execute_result"
    }
   ],
   "source": [
    "# Loading dataset\n",
    "df = pd.read_csv(\"Traffic_Crashes_-_Crashes_20250604.csv\")\n",
    "# Previewing the dataset\n",
    "df.head()"
   ]
  },
  {
   "cell_type": "code",
   "execution_count": 3,
   "metadata": {},
   "outputs": [
    {
     "data": {
      "text/html": [
       "<div>\n",
       "<style scoped>\n",
       "    .dataframe tbody tr th:only-of-type {\n",
       "        vertical-align: middle;\n",
       "    }\n",
       "\n",
       "    .dataframe tbody tr th {\n",
       "        vertical-align: top;\n",
       "    }\n",
       "\n",
       "    .dataframe thead th {\n",
       "        text-align: right;\n",
       "    }\n",
       "</style>\n",
       "<table border=\"1\" class=\"dataframe\">\n",
       "  <thead>\n",
       "    <tr style=\"text-align: right;\">\n",
       "      <th></th>\n",
       "      <th>CRASH_RECORD_ID</th>\n",
       "      <th>CRASH_DATE_EST_I</th>\n",
       "      <th>CRASH_DATE</th>\n",
       "      <th>POSTED_SPEED_LIMIT</th>\n",
       "      <th>TRAFFIC_CONTROL_DEVICE</th>\n",
       "      <th>DEVICE_CONDITION</th>\n",
       "      <th>WEATHER_CONDITION</th>\n",
       "      <th>LIGHTING_CONDITION</th>\n",
       "      <th>FIRST_CRASH_TYPE</th>\n",
       "      <th>TRAFFICWAY_TYPE</th>\n",
       "      <th>...</th>\n",
       "      <th>INJURIES_NON_INCAPACITATING</th>\n",
       "      <th>INJURIES_REPORTED_NOT_EVIDENT</th>\n",
       "      <th>INJURIES_NO_INDICATION</th>\n",
       "      <th>INJURIES_UNKNOWN</th>\n",
       "      <th>CRASH_HOUR</th>\n",
       "      <th>CRASH_DAY_OF_WEEK</th>\n",
       "      <th>CRASH_MONTH</th>\n",
       "      <th>LATITUDE</th>\n",
       "      <th>LONGITUDE</th>\n",
       "      <th>LOCATION</th>\n",
       "    </tr>\n",
       "  </thead>\n",
       "  <tbody>\n",
       "    <tr>\n",
       "      <th>950791</th>\n",
       "      <td>5f3265aec2ae9cb1e601fe0a0b4af11191b55d8786a26c...</td>\n",
       "      <td>NaN</td>\n",
       "      <td>01/28/2025 03:50:00 PM</td>\n",
       "      <td>40</td>\n",
       "      <td>NO CONTROLS</td>\n",
       "      <td>NO CONTROLS</td>\n",
       "      <td>CLEAR</td>\n",
       "      <td>DAYLIGHT</td>\n",
       "      <td>SIDESWIPE SAME DIRECTION</td>\n",
       "      <td>DIVIDED - W/MEDIAN BARRIER</td>\n",
       "      <td>...</td>\n",
       "      <td>0.0</td>\n",
       "      <td>0.0</td>\n",
       "      <td>2.0</td>\n",
       "      <td>0.0</td>\n",
       "      <td>15</td>\n",
       "      <td>3</td>\n",
       "      <td>1</td>\n",
       "      <td>41.903788</td>\n",
       "      <td>-87.624720</td>\n",
       "      <td>POINT (-87.624720160474 41.903788026488)</td>\n",
       "    </tr>\n",
       "    <tr>\n",
       "      <th>950792</th>\n",
       "      <td>00580c38c361fe6da401a2a6b96f381a08f3a6811f18c7...</td>\n",
       "      <td>NaN</td>\n",
       "      <td>01/29/2025 07:25:00 PM</td>\n",
       "      <td>30</td>\n",
       "      <td>NO CONTROLS</td>\n",
       "      <td>NO CONTROLS</td>\n",
       "      <td>CLEAR</td>\n",
       "      <td>DARKNESS, LIGHTED ROAD</td>\n",
       "      <td>REAR END</td>\n",
       "      <td>PARKING LOT</td>\n",
       "      <td>...</td>\n",
       "      <td>0.0</td>\n",
       "      <td>0.0</td>\n",
       "      <td>2.0</td>\n",
       "      <td>0.0</td>\n",
       "      <td>19</td>\n",
       "      <td>4</td>\n",
       "      <td>1</td>\n",
       "      <td>41.988314</td>\n",
       "      <td>-87.791671</td>\n",
       "      <td>POINT (-87.791671453941 41.988313831775)</td>\n",
       "    </tr>\n",
       "    <tr>\n",
       "      <th>950793</th>\n",
       "      <td>4f4333f00f578df2ffc68daa7a1177143340d8d899b83c...</td>\n",
       "      <td>NaN</td>\n",
       "      <td>01/29/2025 09:27:00 AM</td>\n",
       "      <td>30</td>\n",
       "      <td>TRAFFIC SIGNAL</td>\n",
       "      <td>FUNCTIONING PROPERLY</td>\n",
       "      <td>CLEAR</td>\n",
       "      <td>DAYLIGHT</td>\n",
       "      <td>REAR END</td>\n",
       "      <td>FOUR WAY</td>\n",
       "      <td>...</td>\n",
       "      <td>0.0</td>\n",
       "      <td>0.0</td>\n",
       "      <td>2.0</td>\n",
       "      <td>0.0</td>\n",
       "      <td>9</td>\n",
       "      <td>4</td>\n",
       "      <td>1</td>\n",
       "      <td>41.852500</td>\n",
       "      <td>-87.666172</td>\n",
       "      <td>POINT (-87.666172373715 41.852500328787)</td>\n",
       "    </tr>\n",
       "    <tr>\n",
       "      <th>950794</th>\n",
       "      <td>5ac09423aa9016c9755f1cace10a067fcab2648f18577c...</td>\n",
       "      <td>NaN</td>\n",
       "      <td>01/29/2025 07:08:00 PM</td>\n",
       "      <td>30</td>\n",
       "      <td>TRAFFIC SIGNAL</td>\n",
       "      <td>FUNCTIONING PROPERLY</td>\n",
       "      <td>CLEAR</td>\n",
       "      <td>DARKNESS, LIGHTED ROAD</td>\n",
       "      <td>PEDESTRIAN</td>\n",
       "      <td>FOUR WAY</td>\n",
       "      <td>...</td>\n",
       "      <td>1.0</td>\n",
       "      <td>0.0</td>\n",
       "      <td>1.0</td>\n",
       "      <td>0.0</td>\n",
       "      <td>19</td>\n",
       "      <td>4</td>\n",
       "      <td>1</td>\n",
       "      <td>41.885802</td>\n",
       "      <td>-87.624660</td>\n",
       "      <td>POINT (-87.624659771063 41.885801546318)</td>\n",
       "    </tr>\n",
       "    <tr>\n",
       "      <th>950795</th>\n",
       "      <td>bfa8377168b8dc75b4a09bf627b4e28fc77f465911c99b...</td>\n",
       "      <td>NaN</td>\n",
       "      <td>09/13/2023 01:08:00 PM</td>\n",
       "      <td>30</td>\n",
       "      <td>UNKNOWN</td>\n",
       "      <td>UNKNOWN</td>\n",
       "      <td>UNKNOWN</td>\n",
       "      <td>UNKNOWN</td>\n",
       "      <td>TURNING</td>\n",
       "      <td>FOUR WAY</td>\n",
       "      <td>...</td>\n",
       "      <td>0.0</td>\n",
       "      <td>0.0</td>\n",
       "      <td>2.0</td>\n",
       "      <td>0.0</td>\n",
       "      <td>13</td>\n",
       "      <td>4</td>\n",
       "      <td>9</td>\n",
       "      <td>41.923913</td>\n",
       "      <td>-87.637409</td>\n",
       "      <td>POINT (-87.637408804478 41.923913444256)</td>\n",
       "    </tr>\n",
       "  </tbody>\n",
       "</table>\n",
       "<p>5 rows × 48 columns</p>\n",
       "</div>"
      ],
      "text/plain": [
       "                                          CRASH_RECORD_ID CRASH_DATE_EST_I  \\\n",
       "950791  5f3265aec2ae9cb1e601fe0a0b4af11191b55d8786a26c...              NaN   \n",
       "950792  00580c38c361fe6da401a2a6b96f381a08f3a6811f18c7...              NaN   \n",
       "950793  4f4333f00f578df2ffc68daa7a1177143340d8d899b83c...              NaN   \n",
       "950794  5ac09423aa9016c9755f1cace10a067fcab2648f18577c...              NaN   \n",
       "950795  bfa8377168b8dc75b4a09bf627b4e28fc77f465911c99b...              NaN   \n",
       "\n",
       "                    CRASH_DATE  POSTED_SPEED_LIMIT TRAFFIC_CONTROL_DEVICE  \\\n",
       "950791  01/28/2025 03:50:00 PM                  40            NO CONTROLS   \n",
       "950792  01/29/2025 07:25:00 PM                  30            NO CONTROLS   \n",
       "950793  01/29/2025 09:27:00 AM                  30         TRAFFIC SIGNAL   \n",
       "950794  01/29/2025 07:08:00 PM                  30         TRAFFIC SIGNAL   \n",
       "950795  09/13/2023 01:08:00 PM                  30                UNKNOWN   \n",
       "\n",
       "            DEVICE_CONDITION WEATHER_CONDITION      LIGHTING_CONDITION  \\\n",
       "950791           NO CONTROLS             CLEAR                DAYLIGHT   \n",
       "950792           NO CONTROLS             CLEAR  DARKNESS, LIGHTED ROAD   \n",
       "950793  FUNCTIONING PROPERLY             CLEAR                DAYLIGHT   \n",
       "950794  FUNCTIONING PROPERLY             CLEAR  DARKNESS, LIGHTED ROAD   \n",
       "950795               UNKNOWN           UNKNOWN                 UNKNOWN   \n",
       "\n",
       "                FIRST_CRASH_TYPE             TRAFFICWAY_TYPE  ...  \\\n",
       "950791  SIDESWIPE SAME DIRECTION  DIVIDED - W/MEDIAN BARRIER  ...   \n",
       "950792                  REAR END                 PARKING LOT  ...   \n",
       "950793                  REAR END                    FOUR WAY  ...   \n",
       "950794                PEDESTRIAN                    FOUR WAY  ...   \n",
       "950795                   TURNING                    FOUR WAY  ...   \n",
       "\n",
       "        INJURIES_NON_INCAPACITATING INJURIES_REPORTED_NOT_EVIDENT  \\\n",
       "950791                          0.0                           0.0   \n",
       "950792                          0.0                           0.0   \n",
       "950793                          0.0                           0.0   \n",
       "950794                          1.0                           0.0   \n",
       "950795                          0.0                           0.0   \n",
       "\n",
       "       INJURIES_NO_INDICATION INJURIES_UNKNOWN CRASH_HOUR CRASH_DAY_OF_WEEK  \\\n",
       "950791                    2.0              0.0         15                 3   \n",
       "950792                    2.0              0.0         19                 4   \n",
       "950793                    2.0              0.0          9                 4   \n",
       "950794                    1.0              0.0         19                 4   \n",
       "950795                    2.0              0.0         13                 4   \n",
       "\n",
       "       CRASH_MONTH   LATITUDE  LONGITUDE  \\\n",
       "950791           1  41.903788 -87.624720   \n",
       "950792           1  41.988314 -87.791671   \n",
       "950793           1  41.852500 -87.666172   \n",
       "950794           1  41.885802 -87.624660   \n",
       "950795           9  41.923913 -87.637409   \n",
       "\n",
       "                                        LOCATION  \n",
       "950791  POINT (-87.624720160474 41.903788026488)  \n",
       "950792  POINT (-87.791671453941 41.988313831775)  \n",
       "950793  POINT (-87.666172373715 41.852500328787)  \n",
       "950794  POINT (-87.624659771063 41.885801546318)  \n",
       "950795  POINT (-87.637408804478 41.923913444256)  \n",
       "\n",
       "[5 rows x 48 columns]"
      ]
     },
     "execution_count": 3,
     "metadata": {},
     "output_type": "execute_result"
    }
   ],
   "source": [
    "#checking the tail\n",
    "df.tail()"
   ]
  },
  {
   "cell_type": "code",
   "execution_count": 4,
   "metadata": {},
   "outputs": [
    {
     "name": "stdout",
     "output_type": "stream",
     "text": [
      "<class 'pandas.core.frame.DataFrame'>\n",
      "RangeIndex: 950796 entries, 0 to 950795\n",
      "Data columns (total 48 columns):\n",
      " #   Column                         Non-Null Count   Dtype  \n",
      "---  ------                         --------------   -----  \n",
      " 0   CRASH_RECORD_ID                950796 non-null  object \n",
      " 1   CRASH_DATE_EST_I               69598 non-null   object \n",
      " 2   CRASH_DATE                     950796 non-null  object \n",
      " 3   POSTED_SPEED_LIMIT             950796 non-null  int64  \n",
      " 4   TRAFFIC_CONTROL_DEVICE         950796 non-null  object \n",
      " 5   DEVICE_CONDITION               950796 non-null  object \n",
      " 6   WEATHER_CONDITION              950796 non-null  object \n",
      " 7   LIGHTING_CONDITION             950796 non-null  object \n",
      " 8   FIRST_CRASH_TYPE               950796 non-null  object \n",
      " 9   TRAFFICWAY_TYPE                950796 non-null  object \n",
      " 10  LANE_CNT                       199026 non-null  float64\n",
      " 11  ALIGNMENT                      950796 non-null  object \n",
      " 12  ROADWAY_SURFACE_COND           950796 non-null  object \n",
      " 13  ROAD_DEFECT                    950796 non-null  object \n",
      " 14  REPORT_TYPE                    920272 non-null  object \n",
      " 15  CRASH_TYPE                     950796 non-null  object \n",
      " 16  INTERSECTION_RELATED_I         218615 non-null  object \n",
      " 17  NOT_RIGHT_OF_WAY_I             43039 non-null   object \n",
      " 18  HIT_AND_RUN_I                  298181 non-null  object \n",
      " 19  DAMAGE                         950796 non-null  object \n",
      " 20  DATE_POLICE_NOTIFIED           950796 non-null  object \n",
      " 21  PRIM_CONTRIBUTORY_CAUSE        950796 non-null  object \n",
      " 22  SEC_CONTRIBUTORY_CAUSE         950796 non-null  object \n",
      " 23  STREET_NO                      950796 non-null  int64  \n",
      " 24  STREET_DIRECTION               950792 non-null  object \n",
      " 25  STREET_NAME                    950795 non-null  object \n",
      " 26  BEAT_OF_OCCURRENCE             950791 non-null  float64\n",
      " 27  PHOTOS_TAKEN_I                 13243 non-null   object \n",
      " 28  STATEMENTS_TAKEN_I             22244 non-null   object \n",
      " 29  DOORING_I                      2980 non-null    object \n",
      " 30  WORK_ZONE_I                    5197 non-null    object \n",
      " 31  WORK_ZONE_TYPE                 3989 non-null    object \n",
      " 32  WORKERS_PRESENT_I              1338 non-null    object \n",
      " 33  NUM_UNITS                      950796 non-null  int64  \n",
      " 34  MOST_SEVERE_INJURY             948699 non-null  object \n",
      " 35  INJURIES_TOTAL                 948713 non-null  float64\n",
      " 36  INJURIES_FATAL                 948713 non-null  float64\n",
      " 37  INJURIES_INCAPACITATING        948713 non-null  float64\n",
      " 38  INJURIES_NON_INCAPACITATING    948713 non-null  float64\n",
      " 39  INJURIES_REPORTED_NOT_EVIDENT  948713 non-null  float64\n",
      " 40  INJURIES_NO_INDICATION         948713 non-null  float64\n",
      " 41  INJURIES_UNKNOWN               948713 non-null  float64\n",
      " 42  CRASH_HOUR                     950796 non-null  int64  \n",
      " 43  CRASH_DAY_OF_WEEK              950796 non-null  int64  \n",
      " 44  CRASH_MONTH                    950796 non-null  int64  \n",
      " 45  LATITUDE                       943725 non-null  float64\n",
      " 46  LONGITUDE                      943725 non-null  float64\n",
      " 47  LOCATION                       943725 non-null  object \n",
      "dtypes: float64(11), int64(6), object(31)\n",
      "memory usage: 348.2+ MB\n"
     ]
    }
   ],
   "source": [
    "#getting the info\n",
    "df.info()"
   ]
  },
  {
   "cell_type": "code",
   "execution_count": 5,
   "metadata": {},
   "outputs": [
    {
     "data": {
      "text/plain": [
       "Index(['CRASH_RECORD_ID', 'CRASH_DATE_EST_I', 'CRASH_DATE',\n",
       "       'POSTED_SPEED_LIMIT', 'TRAFFIC_CONTROL_DEVICE', 'DEVICE_CONDITION',\n",
       "       'WEATHER_CONDITION', 'LIGHTING_CONDITION', 'FIRST_CRASH_TYPE',\n",
       "       'TRAFFICWAY_TYPE', 'LANE_CNT', 'ALIGNMENT', 'ROADWAY_SURFACE_COND',\n",
       "       'ROAD_DEFECT', 'REPORT_TYPE', 'CRASH_TYPE', 'INTERSECTION_RELATED_I',\n",
       "       'NOT_RIGHT_OF_WAY_I', 'HIT_AND_RUN_I', 'DAMAGE', 'DATE_POLICE_NOTIFIED',\n",
       "       'PRIM_CONTRIBUTORY_CAUSE', 'SEC_CONTRIBUTORY_CAUSE', 'STREET_NO',\n",
       "       'STREET_DIRECTION', 'STREET_NAME', 'BEAT_OF_OCCURRENCE',\n",
       "       'PHOTOS_TAKEN_I', 'STATEMENTS_TAKEN_I', 'DOORING_I', 'WORK_ZONE_I',\n",
       "       'WORK_ZONE_TYPE', 'WORKERS_PRESENT_I', 'NUM_UNITS',\n",
       "       'MOST_SEVERE_INJURY', 'INJURIES_TOTAL', 'INJURIES_FATAL',\n",
       "       'INJURIES_INCAPACITATING', 'INJURIES_NON_INCAPACITATING',\n",
       "       'INJURIES_REPORTED_NOT_EVIDENT', 'INJURIES_NO_INDICATION',\n",
       "       'INJURIES_UNKNOWN', 'CRASH_HOUR', 'CRASH_DAY_OF_WEEK', 'CRASH_MONTH',\n",
       "       'LATITUDE', 'LONGITUDE', 'LOCATION'],\n",
       "      dtype='object')"
      ]
     },
     "execution_count": 5,
     "metadata": {},
     "output_type": "execute_result"
    }
   ],
   "source": [
    "#checking the columns\n",
    "df.columns"
   ]
  },
  {
   "cell_type": "code",
   "execution_count": 6,
   "metadata": {},
   "outputs": [
    {
     "data": {
      "text/plain": [
       "(950796, 48)"
      ]
     },
     "execution_count": 6,
     "metadata": {},
     "output_type": "execute_result"
    }
   ],
   "source": [
    "#Getting the shape\n",
    "df.shape"
   ]
  },
  {
   "cell_type": "code",
   "execution_count": 7,
   "metadata": {},
   "outputs": [
    {
     "data": {
      "text/html": [
       "<div>\n",
       "<style scoped>\n",
       "    .dataframe tbody tr th:only-of-type {\n",
       "        vertical-align: middle;\n",
       "    }\n",
       "\n",
       "    .dataframe tbody tr th {\n",
       "        vertical-align: top;\n",
       "    }\n",
       "\n",
       "    .dataframe thead th {\n",
       "        text-align: right;\n",
       "    }\n",
       "</style>\n",
       "<table border=\"1\" class=\"dataframe\">\n",
       "  <thead>\n",
       "    <tr style=\"text-align: right;\">\n",
       "      <th></th>\n",
       "      <th>POSTED_SPEED_LIMIT</th>\n",
       "      <th>LANE_CNT</th>\n",
       "      <th>STREET_NO</th>\n",
       "      <th>BEAT_OF_OCCURRENCE</th>\n",
       "      <th>NUM_UNITS</th>\n",
       "      <th>INJURIES_TOTAL</th>\n",
       "      <th>INJURIES_FATAL</th>\n",
       "      <th>INJURIES_INCAPACITATING</th>\n",
       "      <th>INJURIES_NON_INCAPACITATING</th>\n",
       "      <th>INJURIES_REPORTED_NOT_EVIDENT</th>\n",
       "      <th>INJURIES_NO_INDICATION</th>\n",
       "      <th>INJURIES_UNKNOWN</th>\n",
       "      <th>CRASH_HOUR</th>\n",
       "      <th>CRASH_DAY_OF_WEEK</th>\n",
       "      <th>CRASH_MONTH</th>\n",
       "      <th>LATITUDE</th>\n",
       "      <th>LONGITUDE</th>\n",
       "    </tr>\n",
       "  </thead>\n",
       "  <tbody>\n",
       "    <tr>\n",
       "      <th>count</th>\n",
       "      <td>950796.000000</td>\n",
       "      <td>1.990260e+05</td>\n",
       "      <td>950796.000000</td>\n",
       "      <td>950791.000000</td>\n",
       "      <td>950796.000000</td>\n",
       "      <td>948713.000000</td>\n",
       "      <td>948713.000000</td>\n",
       "      <td>948713.000000</td>\n",
       "      <td>948713.000000</td>\n",
       "      <td>948713.000000</td>\n",
       "      <td>948713.000000</td>\n",
       "      <td>948713.0</td>\n",
       "      <td>950796.000000</td>\n",
       "      <td>950796.000000</td>\n",
       "      <td>950796.000000</td>\n",
       "      <td>943725.000000</td>\n",
       "      <td>943725.000000</td>\n",
       "    </tr>\n",
       "    <tr>\n",
       "      <th>mean</th>\n",
       "      <td>28.422299</td>\n",
       "      <td>1.332919e+01</td>\n",
       "      <td>3689.597618</td>\n",
       "      <td>1246.463895</td>\n",
       "      <td>2.035133</td>\n",
       "      <td>0.195515</td>\n",
       "      <td>0.001167</td>\n",
       "      <td>0.019408</td>\n",
       "      <td>0.108938</td>\n",
       "      <td>0.066002</td>\n",
       "      <td>1.999387</td>\n",
       "      <td>0.0</td>\n",
       "      <td>13.193526</td>\n",
       "      <td>4.121280</td>\n",
       "      <td>6.600845</td>\n",
       "      <td>41.855201</td>\n",
       "      <td>-87.673619</td>\n",
       "    </tr>\n",
       "    <tr>\n",
       "      <th>std</th>\n",
       "      <td>6.077583</td>\n",
       "      <td>2.961475e+03</td>\n",
       "      <td>2876.706374</td>\n",
       "      <td>704.728003</td>\n",
       "      <td>0.450911</td>\n",
       "      <td>0.574279</td>\n",
       "      <td>0.036956</td>\n",
       "      <td>0.163211</td>\n",
       "      <td>0.425190</td>\n",
       "      <td>0.330755</td>\n",
       "      <td>1.156001</td>\n",
       "      <td>0.0</td>\n",
       "      <td>5.571104</td>\n",
       "      <td>1.979291</td>\n",
       "      <td>3.418397</td>\n",
       "      <td>0.339264</td>\n",
       "      <td>0.689872</td>\n",
       "    </tr>\n",
       "    <tr>\n",
       "      <th>min</th>\n",
       "      <td>0.000000</td>\n",
       "      <td>0.000000e+00</td>\n",
       "      <td>0.000000</td>\n",
       "      <td>111.000000</td>\n",
       "      <td>1.000000</td>\n",
       "      <td>0.000000</td>\n",
       "      <td>0.000000</td>\n",
       "      <td>0.000000</td>\n",
       "      <td>0.000000</td>\n",
       "      <td>0.000000</td>\n",
       "      <td>0.000000</td>\n",
       "      <td>0.0</td>\n",
       "      <td>0.000000</td>\n",
       "      <td>1.000000</td>\n",
       "      <td>1.000000</td>\n",
       "      <td>0.000000</td>\n",
       "      <td>-87.936193</td>\n",
       "    </tr>\n",
       "    <tr>\n",
       "      <th>25%</th>\n",
       "      <td>30.000000</td>\n",
       "      <td>2.000000e+00</td>\n",
       "      <td>1258.000000</td>\n",
       "      <td>722.000000</td>\n",
       "      <td>2.000000</td>\n",
       "      <td>0.000000</td>\n",
       "      <td>0.000000</td>\n",
       "      <td>0.000000</td>\n",
       "      <td>0.000000</td>\n",
       "      <td>0.000000</td>\n",
       "      <td>1.000000</td>\n",
       "      <td>0.0</td>\n",
       "      <td>9.000000</td>\n",
       "      <td>2.000000</td>\n",
       "      <td>4.000000</td>\n",
       "      <td>41.783593</td>\n",
       "      <td>-87.721824</td>\n",
       "    </tr>\n",
       "    <tr>\n",
       "      <th>50%</th>\n",
       "      <td>30.000000</td>\n",
       "      <td>2.000000e+00</td>\n",
       "      <td>3201.000000</td>\n",
       "      <td>1212.000000</td>\n",
       "      <td>2.000000</td>\n",
       "      <td>0.000000</td>\n",
       "      <td>0.000000</td>\n",
       "      <td>0.000000</td>\n",
       "      <td>0.000000</td>\n",
       "      <td>0.000000</td>\n",
       "      <td>2.000000</td>\n",
       "      <td>0.0</td>\n",
       "      <td>14.000000</td>\n",
       "      <td>4.000000</td>\n",
       "      <td>7.000000</td>\n",
       "      <td>41.875030</td>\n",
       "      <td>-87.674353</td>\n",
       "    </tr>\n",
       "    <tr>\n",
       "      <th>75%</th>\n",
       "      <td>30.000000</td>\n",
       "      <td>4.000000e+00</td>\n",
       "      <td>5559.000000</td>\n",
       "      <td>1822.000000</td>\n",
       "      <td>2.000000</td>\n",
       "      <td>0.000000</td>\n",
       "      <td>0.000000</td>\n",
       "      <td>0.000000</td>\n",
       "      <td>0.000000</td>\n",
       "      <td>0.000000</td>\n",
       "      <td>2.000000</td>\n",
       "      <td>0.0</td>\n",
       "      <td>17.000000</td>\n",
       "      <td>6.000000</td>\n",
       "      <td>10.000000</td>\n",
       "      <td>41.924668</td>\n",
       "      <td>-87.633742</td>\n",
       "    </tr>\n",
       "    <tr>\n",
       "      <th>max</th>\n",
       "      <td>99.000000</td>\n",
       "      <td>1.191625e+06</td>\n",
       "      <td>451100.000000</td>\n",
       "      <td>6100.000000</td>\n",
       "      <td>18.000000</td>\n",
       "      <td>21.000000</td>\n",
       "      <td>4.000000</td>\n",
       "      <td>10.000000</td>\n",
       "      <td>21.000000</td>\n",
       "      <td>19.000000</td>\n",
       "      <td>61.000000</td>\n",
       "      <td>0.0</td>\n",
       "      <td>23.000000</td>\n",
       "      <td>7.000000</td>\n",
       "      <td>12.000000</td>\n",
       "      <td>42.022780</td>\n",
       "      <td>0.000000</td>\n",
       "    </tr>\n",
       "  </tbody>\n",
       "</table>\n",
       "</div>"
      ],
      "text/plain": [
       "       POSTED_SPEED_LIMIT      LANE_CNT      STREET_NO  BEAT_OF_OCCURRENCE  \\\n",
       "count       950796.000000  1.990260e+05  950796.000000       950791.000000   \n",
       "mean            28.422299  1.332919e+01    3689.597618         1246.463895   \n",
       "std              6.077583  2.961475e+03    2876.706374          704.728003   \n",
       "min              0.000000  0.000000e+00       0.000000          111.000000   \n",
       "25%             30.000000  2.000000e+00    1258.000000          722.000000   \n",
       "50%             30.000000  2.000000e+00    3201.000000         1212.000000   \n",
       "75%             30.000000  4.000000e+00    5559.000000         1822.000000   \n",
       "max             99.000000  1.191625e+06  451100.000000         6100.000000   \n",
       "\n",
       "           NUM_UNITS  INJURIES_TOTAL  INJURIES_FATAL  INJURIES_INCAPACITATING  \\\n",
       "count  950796.000000   948713.000000   948713.000000            948713.000000   \n",
       "mean        2.035133        0.195515        0.001167                 0.019408   \n",
       "std         0.450911        0.574279        0.036956                 0.163211   \n",
       "min         1.000000        0.000000        0.000000                 0.000000   \n",
       "25%         2.000000        0.000000        0.000000                 0.000000   \n",
       "50%         2.000000        0.000000        0.000000                 0.000000   \n",
       "75%         2.000000        0.000000        0.000000                 0.000000   \n",
       "max        18.000000       21.000000        4.000000                10.000000   \n",
       "\n",
       "       INJURIES_NON_INCAPACITATING  INJURIES_REPORTED_NOT_EVIDENT  \\\n",
       "count                948713.000000                  948713.000000   \n",
       "mean                      0.108938                       0.066002   \n",
       "std                       0.425190                       0.330755   \n",
       "min                       0.000000                       0.000000   \n",
       "25%                       0.000000                       0.000000   \n",
       "50%                       0.000000                       0.000000   \n",
       "75%                       0.000000                       0.000000   \n",
       "max                      21.000000                      19.000000   \n",
       "\n",
       "       INJURIES_NO_INDICATION  INJURIES_UNKNOWN     CRASH_HOUR  \\\n",
       "count           948713.000000          948713.0  950796.000000   \n",
       "mean                 1.999387               0.0      13.193526   \n",
       "std                  1.156001               0.0       5.571104   \n",
       "min                  0.000000               0.0       0.000000   \n",
       "25%                  1.000000               0.0       9.000000   \n",
       "50%                  2.000000               0.0      14.000000   \n",
       "75%                  2.000000               0.0      17.000000   \n",
       "max                 61.000000               0.0      23.000000   \n",
       "\n",
       "       CRASH_DAY_OF_WEEK    CRASH_MONTH       LATITUDE      LONGITUDE  \n",
       "count      950796.000000  950796.000000  943725.000000  943725.000000  \n",
       "mean            4.121280       6.600845      41.855201     -87.673619  \n",
       "std             1.979291       3.418397       0.339264       0.689872  \n",
       "min             1.000000       1.000000       0.000000     -87.936193  \n",
       "25%             2.000000       4.000000      41.783593     -87.721824  \n",
       "50%             4.000000       7.000000      41.875030     -87.674353  \n",
       "75%             6.000000      10.000000      41.924668     -87.633742  \n",
       "max             7.000000      12.000000      42.022780       0.000000  "
      ]
     },
     "execution_count": 7,
     "metadata": {},
     "output_type": "execute_result"
    }
   ],
   "source": [
    "#getting basic statistical details\n",
    "df.describe()"
   ]
  },
  {
   "cell_type": "code",
   "execution_count": 8,
   "metadata": {},
   "outputs": [
    {
     "data": {
      "text/plain": [
       "CRASH_RECORD_ID                       0\n",
       "CRASH_DATE_EST_I                 881198\n",
       "CRASH_DATE                            0\n",
       "POSTED_SPEED_LIMIT                    0\n",
       "TRAFFIC_CONTROL_DEVICE                0\n",
       "DEVICE_CONDITION                      0\n",
       "WEATHER_CONDITION                     0\n",
       "LIGHTING_CONDITION                    0\n",
       "FIRST_CRASH_TYPE                      0\n",
       "TRAFFICWAY_TYPE                       0\n",
       "LANE_CNT                         751770\n",
       "ALIGNMENT                             0\n",
       "ROADWAY_SURFACE_COND                  0\n",
       "ROAD_DEFECT                           0\n",
       "REPORT_TYPE                       30524\n",
       "CRASH_TYPE                            0\n",
       "INTERSECTION_RELATED_I           732181\n",
       "NOT_RIGHT_OF_WAY_I               907757\n",
       "HIT_AND_RUN_I                    652615\n",
       "DAMAGE                                0\n",
       "DATE_POLICE_NOTIFIED                  0\n",
       "PRIM_CONTRIBUTORY_CAUSE               0\n",
       "SEC_CONTRIBUTORY_CAUSE                0\n",
       "STREET_NO                             0\n",
       "STREET_DIRECTION                      4\n",
       "STREET_NAME                           1\n",
       "BEAT_OF_OCCURRENCE                    5\n",
       "PHOTOS_TAKEN_I                   937553\n",
       "STATEMENTS_TAKEN_I               928552\n",
       "DOORING_I                        947816\n",
       "WORK_ZONE_I                      945599\n",
       "WORK_ZONE_TYPE                   946807\n",
       "WORKERS_PRESENT_I                949458\n",
       "NUM_UNITS                             0\n",
       "MOST_SEVERE_INJURY                 2097\n",
       "INJURIES_TOTAL                     2083\n",
       "INJURIES_FATAL                     2083\n",
       "INJURIES_INCAPACITATING            2083\n",
       "INJURIES_NON_INCAPACITATING        2083\n",
       "INJURIES_REPORTED_NOT_EVIDENT      2083\n",
       "INJURIES_NO_INDICATION             2083\n",
       "INJURIES_UNKNOWN                   2083\n",
       "CRASH_HOUR                            0\n",
       "CRASH_DAY_OF_WEEK                     0\n",
       "CRASH_MONTH                           0\n",
       "LATITUDE                           7071\n",
       "LONGITUDE                          7071\n",
       "LOCATION                           7071\n",
       "dtype: int64"
      ]
     },
     "execution_count": 8,
     "metadata": {},
     "output_type": "execute_result"
    }
   ],
   "source": [
    "#checking the sum of the null values in each column\n",
    "df.isnull().sum()"
   ]
  },
  {
   "cell_type": "code",
   "execution_count": 9,
   "metadata": {},
   "outputs": [
    {
     "data": {
      "text/plain": [
       "CRASH_RECORD_ID                  950796\n",
       "CRASH_DATE_EST_I                      2\n",
       "CRASH_DATE                       627174\n",
       "POSTED_SPEED_LIMIT                   46\n",
       "TRAFFIC_CONTROL_DEVICE               19\n",
       "DEVICE_CONDITION                      8\n",
       "WEATHER_CONDITION                    12\n",
       "LIGHTING_CONDITION                    6\n",
       "FIRST_CRASH_TYPE                     18\n",
       "TRAFFICWAY_TYPE                      20\n",
       "LANE_CNT                             41\n",
       "ALIGNMENT                             6\n",
       "ROADWAY_SURFACE_COND                  7\n",
       "ROAD_DEFECT                           7\n",
       "REPORT_TYPE                           3\n",
       "CRASH_TYPE                            2\n",
       "INTERSECTION_RELATED_I                2\n",
       "NOT_RIGHT_OF_WAY_I                    2\n",
       "HIT_AND_RUN_I                         2\n",
       "DAMAGE                                3\n",
       "DATE_POLICE_NOTIFIED             720410\n",
       "PRIM_CONTRIBUTORY_CAUSE              40\n",
       "SEC_CONTRIBUTORY_CAUSE               40\n",
       "STREET_NO                         11894\n",
       "STREET_DIRECTION                      4\n",
       "STREET_NAME                        1658\n",
       "BEAT_OF_OCCURRENCE                  276\n",
       "PHOTOS_TAKEN_I                        2\n",
       "STATEMENTS_TAKEN_I                    2\n",
       "DOORING_I                             2\n",
       "WORK_ZONE_I                           2\n",
       "WORK_ZONE_TYPE                        4\n",
       "WORKERS_PRESENT_I                     2\n",
       "NUM_UNITS                            17\n",
       "MOST_SEVERE_INJURY                    5\n",
       "INJURIES_TOTAL                       20\n",
       "INJURIES_FATAL                        5\n",
       "INJURIES_INCAPACITATING              10\n",
       "INJURIES_NON_INCAPACITATING          20\n",
       "INJURIES_REPORTED_NOT_EVIDENT        14\n",
       "INJURIES_NO_INDICATION               50\n",
       "INJURIES_UNKNOWN                      1\n",
       "CRASH_HOUR                           24\n",
       "CRASH_DAY_OF_WEEK                     7\n",
       "CRASH_MONTH                          12\n",
       "LATITUDE                         330768\n",
       "LONGITUDE                        330765\n",
       "LOCATION                         330796\n",
       "dtype: int64"
      ]
     },
     "execution_count": 9,
     "metadata": {},
     "output_type": "execute_result"
    }
   ],
   "source": [
    "#getting the number unique values in each column\n",
    "df.nunique()"
   ]
  },
  {
   "cell_type": "code",
   "execution_count": 10,
   "metadata": {},
   "outputs": [
    {
     "data": {
      "text/plain": [
       "9649731"
      ]
     },
     "execution_count": 10,
     "metadata": {},
     "output_type": "execute_result"
    }
   ],
   "source": [
    "#checking for missing values\n",
    "df.isnull().sum().sum()"
   ]
  },
  {
   "cell_type": "markdown",
   "metadata": {},
   "source": [
    "## 4. Data Cleaning\n",
    "This done by following the data integrity rules i.e Validity, Accuracy, Completeness, Consistency, Uniformity to ensure the data is ready for analysis"
   ]
  },
  {
   "cell_type": "markdown",
   "metadata": {},
   "source": [
    "### 4.1 Completeness"
   ]
  },
  {
   "cell_type": "code",
   "execution_count": 11,
   "metadata": {
    "scrolled": true
   },
   "outputs": [
    {
     "data": {
      "text/plain": [
       "CRASH_RECORD_ID                       0\n",
       "CRASH_DATE_EST_I                 881198\n",
       "CRASH_DATE                            0\n",
       "POSTED_SPEED_LIMIT                    0\n",
       "TRAFFIC_CONTROL_DEVICE                0\n",
       "DEVICE_CONDITION                      0\n",
       "WEATHER_CONDITION                     0\n",
       "LIGHTING_CONDITION                    0\n",
       "FIRST_CRASH_TYPE                      0\n",
       "TRAFFICWAY_TYPE                       0\n",
       "LANE_CNT                         751770\n",
       "ALIGNMENT                             0\n",
       "ROADWAY_SURFACE_COND                  0\n",
       "ROAD_DEFECT                           0\n",
       "REPORT_TYPE                       30524\n",
       "CRASH_TYPE                            0\n",
       "INTERSECTION_RELATED_I           732181\n",
       "NOT_RIGHT_OF_WAY_I               907757\n",
       "HIT_AND_RUN_I                    652615\n",
       "DAMAGE                                0\n",
       "DATE_POLICE_NOTIFIED                  0\n",
       "PRIM_CONTRIBUTORY_CAUSE               0\n",
       "SEC_CONTRIBUTORY_CAUSE                0\n",
       "STREET_NO                             0\n",
       "STREET_DIRECTION                      4\n",
       "STREET_NAME                           1\n",
       "BEAT_OF_OCCURRENCE                    5\n",
       "PHOTOS_TAKEN_I                   937553\n",
       "STATEMENTS_TAKEN_I               928552\n",
       "DOORING_I                        947816\n",
       "WORK_ZONE_I                      945599\n",
       "WORK_ZONE_TYPE                   946807\n",
       "WORKERS_PRESENT_I                949458\n",
       "NUM_UNITS                             0\n",
       "MOST_SEVERE_INJURY                 2097\n",
       "INJURIES_TOTAL                     2083\n",
       "INJURIES_FATAL                     2083\n",
       "INJURIES_INCAPACITATING            2083\n",
       "INJURIES_NON_INCAPACITATING        2083\n",
       "INJURIES_REPORTED_NOT_EVIDENT      2083\n",
       "INJURIES_NO_INDICATION             2083\n",
       "INJURIES_UNKNOWN                   2083\n",
       "CRASH_HOUR                            0\n",
       "CRASH_DAY_OF_WEEK                     0\n",
       "CRASH_MONTH                           0\n",
       "LATITUDE                           7071\n",
       "LONGITUDE                          7071\n",
       "LOCATION                           7071\n",
       "dtype: int64"
      ]
     },
     "execution_count": 11,
     "metadata": {},
     "output_type": "execute_result"
    }
   ],
   "source": [
    "#checking for null values across each column\n",
    "df.isnull().sum()"
   ]
  },
  {
   "cell_type": "markdown",
   "metadata": {},
   "source": [
    "Several columns have unique values."
   ]
  },
  {
   "cell_type": "code",
   "execution_count": 12,
   "metadata": {},
   "outputs": [
    {
     "data": {
      "text/plain": [
       "CRASH_RECORD_ID                   0.00\n",
       "CRASH_DATE_EST_I                 92.68\n",
       "CRASH_DATE                        0.00\n",
       "POSTED_SPEED_LIMIT                0.00\n",
       "TRAFFIC_CONTROL_DEVICE            0.00\n",
       "DEVICE_CONDITION                  0.00\n",
       "WEATHER_CONDITION                 0.00\n",
       "LIGHTING_CONDITION                0.00\n",
       "FIRST_CRASH_TYPE                  0.00\n",
       "TRAFFICWAY_TYPE                   0.00\n",
       "LANE_CNT                         79.07\n",
       "ALIGNMENT                         0.00\n",
       "ROADWAY_SURFACE_COND              0.00\n",
       "ROAD_DEFECT                       0.00\n",
       "REPORT_TYPE                       3.21\n",
       "CRASH_TYPE                        0.00\n",
       "INTERSECTION_RELATED_I           77.01\n",
       "NOT_RIGHT_OF_WAY_I               95.47\n",
       "HIT_AND_RUN_I                    68.64\n",
       "DAMAGE                            0.00\n",
       "DATE_POLICE_NOTIFIED              0.00\n",
       "PRIM_CONTRIBUTORY_CAUSE           0.00\n",
       "SEC_CONTRIBUTORY_CAUSE            0.00\n",
       "STREET_NO                         0.00\n",
       "STREET_DIRECTION                  0.00\n",
       "STREET_NAME                       0.00\n",
       "BEAT_OF_OCCURRENCE                0.00\n",
       "PHOTOS_TAKEN_I                   98.61\n",
       "STATEMENTS_TAKEN_I               97.66\n",
       "DOORING_I                        99.69\n",
       "WORK_ZONE_I                      99.45\n",
       "WORK_ZONE_TYPE                   99.58\n",
       "WORKERS_PRESENT_I                99.86\n",
       "NUM_UNITS                         0.00\n",
       "MOST_SEVERE_INJURY                0.22\n",
       "INJURIES_TOTAL                    0.22\n",
       "INJURIES_FATAL                    0.22\n",
       "INJURIES_INCAPACITATING           0.22\n",
       "INJURIES_NON_INCAPACITATING       0.22\n",
       "INJURIES_REPORTED_NOT_EVIDENT     0.22\n",
       "INJURIES_NO_INDICATION            0.22\n",
       "INJURIES_UNKNOWN                  0.22\n",
       "CRASH_HOUR                        0.00\n",
       "CRASH_DAY_OF_WEEK                 0.00\n",
       "CRASH_MONTH                       0.00\n",
       "LATITUDE                          0.74\n",
       "LONGITUDE                         0.74\n",
       "LOCATION                          0.74\n",
       "dtype: float64"
      ]
     },
     "execution_count": 12,
     "metadata": {},
     "output_type": "execute_result"
    }
   ],
   "source": [
    "#Checking for the percentage of the missing values\n",
    "df.isna().mean().round(4) * 100"
   ]
  },
  {
   "cell_type": "code",
   "execution_count": 13,
   "metadata": {},
   "outputs": [
    {
     "name": "stdout",
     "output_type": "stream",
     "text": [
      "Index(['CRASH_RECORD_ID', 'CRASH_DATE_EST_I', 'CRASH_DATE',\n",
      "       'POSTED_SPEED_LIMIT', 'TRAFFIC_CONTROL_DEVICE', 'DEVICE_CONDITION',\n",
      "       'WEATHER_CONDITION', 'LIGHTING_CONDITION', 'FIRST_CRASH_TYPE',\n",
      "       'TRAFFICWAY_TYPE', 'LANE_CNT', 'ALIGNMENT', 'ROADWAY_SURFACE_COND',\n",
      "       'ROAD_DEFECT', 'REPORT_TYPE', 'CRASH_TYPE', 'INTERSECTION_RELATED_I',\n",
      "       'NOT_RIGHT_OF_WAY_I', 'HIT_AND_RUN_I', 'DAMAGE', 'DATE_POLICE_NOTIFIED',\n",
      "       'PRIM_CONTRIBUTORY_CAUSE', 'SEC_CONTRIBUTORY_CAUSE', 'STREET_NO',\n",
      "       'STREET_DIRECTION', 'STREET_NAME', 'BEAT_OF_OCCURRENCE',\n",
      "       'PHOTOS_TAKEN_I', 'STATEMENTS_TAKEN_I', 'DOORING_I', 'WORK_ZONE_I',\n",
      "       'WORK_ZONE_TYPE', 'WORKERS_PRESENT_I', 'NUM_UNITS',\n",
      "       'MOST_SEVERE_INJURY', 'INJURIES_TOTAL', 'INJURIES_FATAL',\n",
      "       'INJURIES_INCAPACITATING', 'INJURIES_NON_INCAPACITATING',\n",
      "       'INJURIES_REPORTED_NOT_EVIDENT', 'INJURIES_NO_INDICATION',\n",
      "       'INJURIES_UNKNOWN', 'CRASH_HOUR', 'CRASH_DAY_OF_WEEK', 'CRASH_MONTH',\n",
      "       'LATITUDE', 'LONGITUDE', 'LOCATION'],\n",
      "      dtype='object')\n"
     ]
    }
   ],
   "source": [
    "print(df.columns)"
   ]
  },
  {
   "cell_type": "code",
   "execution_count": 14,
   "metadata": {},
   "outputs": [],
   "source": [
    "#Estimation missing? Fill with unknown\n",
    "# Might be numeric but can be treated categorically \n",
    "cols_to_fill_unknown = [\n",
    "    'CRASH_DATE_EST_I',       \n",
    "    'LANE_CNT',               \n",
    "    'REPORT_TYPE',\n",
    "    'INTERSECTION_RELATED_I',\n",
    "    'NOT_RIGHT_OF_WAY_I',\n",
    "    'HIT_AND_RUN_I',\n",
    "    'PHOTOS_TAKEN_I',\n",
    "    'STATEMENTS_TAKEN_I',\n",
    "    'DOORING_I',\n",
    "    'WORK_ZONE_I',\n",
    "    'WORK_ZONE_TYPE',\n",
    "    'WORKERS_PRESENT_I',\n",
    "    'MOST_SEVERE_INJURY',     \n",
    "    'STREET_DIRECTION',\n",
    "    'STREET_NAME',\n",
    "    'BEAT_OF_OCCURRENCE'\n",
    "]"
   ]
  },
  {
   "cell_type": "code",
   "execution_count": 15,
   "metadata": {},
   "outputs": [
    {
     "name": "stdout",
     "output_type": "stream",
     "text": [
      "CRASH_DATE_EST_I          0\n",
      "LANE_CNT                  0\n",
      "REPORT_TYPE               0\n",
      "INTERSECTION_RELATED_I    0\n",
      "NOT_RIGHT_OF_WAY_I        0\n",
      "HIT_AND_RUN_I             0\n",
      "PHOTOS_TAKEN_I            0\n",
      "STATEMENTS_TAKEN_I        0\n",
      "DOORING_I                 0\n",
      "WORK_ZONE_I               0\n",
      "WORK_ZONE_TYPE            0\n",
      "WORKERS_PRESENT_I         0\n",
      "MOST_SEVERE_INJURY        0\n",
      "STREET_DIRECTION          0\n",
      "STREET_NAME               0\n",
      "BEAT_OF_OCCURRENCE        0\n",
      "dtype: int64\n"
     ]
    }
   ],
   "source": [
    "# Replace missing values with 'unknown' for selected categorical columns\n",
    "for col in cols_to_fill_unknown:\n",
    "    if col in df.columns:\n",
    "        df[col].fillna('unknown', inplace=True)\n",
    "\n",
    "#Confirm missing values are filled\n",
    "print(df[cols_to_fill_unknown].isnull().sum())"
   ]
  },
  {
   "cell_type": "markdown",
   "metadata": {},
   "source": [
    "We filled with unknown since we do not want to assume that no data was available."
   ]
  },
  {
   "cell_type": "markdown",
   "metadata": {},
   "source": [
    "### 4.2 Validity"
   ]
  },
  {
   "cell_type": "code",
   "execution_count": 16,
   "metadata": {},
   "outputs": [],
   "source": [
    "#Irrelevant Data\n",
    "#Drop columns we do not need.\n",
    "df.drop([\n",
    "    'CRASH_DATE_EST_I',\n",
    "    'LANE_CNT',\n",
    "    'INTERSECTION_RELATED_I',\n",
    "    'NOT_RIGHT_OF_WAY_I',\n",
    "    'HIT_AND_RUN_I',\n",
    "    'PHOTOS_TAKEN_I',\n",
    "    'STATEMENTS_TAKEN_I',\n",
    "    'DOORING_I',\n",
    "    'WORK_ZONE_I',\n",
    "    'WORK_ZONE_TYPE',\n",
    "    'WORKERS_PRESENT_I'\n",
    "], axis=1, inplace=True, errors='ignore')"
   ]
  },
  {
   "cell_type": "code",
   "execution_count": 17,
   "metadata": {},
   "outputs": [],
   "source": [
    "#Dropping these columns since we don’t plan to do geospatial analysis\n",
    "df.drop(['LATITUDE', 'LONGITUDE', 'LOCATION', 'STREET_NO', 'STREET_NAME', 'STREET_DIRECTION'], axis=1, inplace=True, errors='ignore')"
   ]
  },
  {
   "cell_type": "code",
   "execution_count": 18,
   "metadata": {},
   "outputs": [],
   "source": [
    "#Dropping these columns as they don’t help the model predict and just act as unique IDs\n",
    "df.drop(['CRASH_RECORD_ID', 'DATE_POLICE_NOTIFIED'], axis=1, inplace=True, errors= 'ignore')"
   ]
  },
  {
   "cell_type": "code",
   "execution_count": 19,
   "metadata": {},
   "outputs": [],
   "source": [
    "#Defining the target variable\n",
    "df['INJURY_OR_FATAL'] = df['MOST_SEVERE_INJURY'].apply(lambda x: 'Injury/Fatal' if x != 'NO INDICATION OF INJURY' else 'No Injury')"
   ]
  },
  {
   "cell_type": "markdown",
   "metadata": {},
   "source": [
    "### 4.3 Consistency"
   ]
  },
  {
   "cell_type": "code",
   "execution_count": 20,
   "metadata": {},
   "outputs": [
    {
     "data": {
      "text/plain": [
       "53"
      ]
     },
     "execution_count": 20,
     "metadata": {},
     "output_type": "execute_result"
    }
   ],
   "source": [
    "#checking for duplicates\n",
    "df.duplicated().sum()"
   ]
  },
  {
   "cell_type": "code",
   "execution_count": 21,
   "metadata": {},
   "outputs": [
    {
     "name": "stdout",
     "output_type": "stream",
     "text": [
      "Duplicates removed.\n"
     ]
    }
   ],
   "source": [
    "# Drop duplicates and reset index\n",
    "df = df.drop_duplicates().reset_index(drop=True)\n",
    "print(\"Duplicates removed.\")\n"
   ]
  },
  {
   "cell_type": "markdown",
   "metadata": {},
   "source": [
    "### 4.4 Uniformity"
   ]
  },
  {
   "cell_type": "code",
   "execution_count": 22,
   "metadata": {},
   "outputs": [],
   "source": [
    "#No action was done"
   ]
  },
  {
   "cell_type": "markdown",
   "metadata": {},
   "source": [
    "### 4.5 Accuracy"
   ]
  },
  {
   "cell_type": "code",
   "execution_count": 23,
   "metadata": {},
   "outputs": [],
   "source": [
    "#No action was done"
   ]
  },
  {
   "cell_type": "markdown",
   "metadata": {},
   "source": [
    "## Exporting our new Dataset"
   ]
  },
  {
   "cell_type": "code",
   "execution_count": 24,
   "metadata": {},
   "outputs": [],
   "source": [
    "df.to_csv('chicago_crashes_cleaned.csv', index=False)"
   ]
  },
  {
   "cell_type": "code",
   "execution_count": 25,
   "metadata": {},
   "outputs": [
    {
     "data": {
      "text/html": [
       "<div>\n",
       "<style scoped>\n",
       "    .dataframe tbody tr th:only-of-type {\n",
       "        vertical-align: middle;\n",
       "    }\n",
       "\n",
       "    .dataframe tbody tr th {\n",
       "        vertical-align: top;\n",
       "    }\n",
       "\n",
       "    .dataframe thead th {\n",
       "        text-align: right;\n",
       "    }\n",
       "</style>\n",
       "<table border=\"1\" class=\"dataframe\">\n",
       "  <thead>\n",
       "    <tr style=\"text-align: right;\">\n",
       "      <th></th>\n",
       "      <th>CRASH_DATE</th>\n",
       "      <th>POSTED_SPEED_LIMIT</th>\n",
       "      <th>TRAFFIC_CONTROL_DEVICE</th>\n",
       "      <th>DEVICE_CONDITION</th>\n",
       "      <th>WEATHER_CONDITION</th>\n",
       "      <th>LIGHTING_CONDITION</th>\n",
       "      <th>FIRST_CRASH_TYPE</th>\n",
       "      <th>TRAFFICWAY_TYPE</th>\n",
       "      <th>ALIGNMENT</th>\n",
       "      <th>ROADWAY_SURFACE_COND</th>\n",
       "      <th>...</th>\n",
       "      <th>INJURIES_FATAL</th>\n",
       "      <th>INJURIES_INCAPACITATING</th>\n",
       "      <th>INJURIES_NON_INCAPACITATING</th>\n",
       "      <th>INJURIES_REPORTED_NOT_EVIDENT</th>\n",
       "      <th>INJURIES_NO_INDICATION</th>\n",
       "      <th>INJURIES_UNKNOWN</th>\n",
       "      <th>CRASH_HOUR</th>\n",
       "      <th>CRASH_DAY_OF_WEEK</th>\n",
       "      <th>CRASH_MONTH</th>\n",
       "      <th>INJURY_OR_FATAL</th>\n",
       "    </tr>\n",
       "  </thead>\n",
       "  <tbody>\n",
       "    <tr>\n",
       "      <th>0</th>\n",
       "      <td>04/04/2025 01:57:00 AM</td>\n",
       "      <td>15</td>\n",
       "      <td>NO CONTROLS</td>\n",
       "      <td>NO CONTROLS</td>\n",
       "      <td>CLEAR</td>\n",
       "      <td>DARKNESS, LIGHTED ROAD</td>\n",
       "      <td>ANGLE</td>\n",
       "      <td>PARKING LOT</td>\n",
       "      <td>STRAIGHT AND LEVEL</td>\n",
       "      <td>SAND, MUD, DIRT</td>\n",
       "      <td>...</td>\n",
       "      <td>0.0</td>\n",
       "      <td>0.0</td>\n",
       "      <td>0.0</td>\n",
       "      <td>0.0</td>\n",
       "      <td>2.0</td>\n",
       "      <td>0.0</td>\n",
       "      <td>1</td>\n",
       "      <td>6</td>\n",
       "      <td>4</td>\n",
       "      <td>No Injury</td>\n",
       "    </tr>\n",
       "    <tr>\n",
       "      <th>1</th>\n",
       "      <td>04/24/2025 08:40:00 PM</td>\n",
       "      <td>10</td>\n",
       "      <td>NO CONTROLS</td>\n",
       "      <td>NO CONTROLS</td>\n",
       "      <td>CLEAR</td>\n",
       "      <td>DAYLIGHT</td>\n",
       "      <td>REAR TO SIDE</td>\n",
       "      <td>PARKING LOT</td>\n",
       "      <td>STRAIGHT AND LEVEL</td>\n",
       "      <td>DRY</td>\n",
       "      <td>...</td>\n",
       "      <td>0.0</td>\n",
       "      <td>0.0</td>\n",
       "      <td>0.0</td>\n",
       "      <td>0.0</td>\n",
       "      <td>2.0</td>\n",
       "      <td>0.0</td>\n",
       "      <td>20</td>\n",
       "      <td>5</td>\n",
       "      <td>4</td>\n",
       "      <td>No Injury</td>\n",
       "    </tr>\n",
       "    <tr>\n",
       "      <th>2</th>\n",
       "      <td>04/24/2025 05:45:00 AM</td>\n",
       "      <td>30</td>\n",
       "      <td>TRAFFIC SIGNAL</td>\n",
       "      <td>FUNCTIONING PROPERLY</td>\n",
       "      <td>CLEAR</td>\n",
       "      <td>DAWN</td>\n",
       "      <td>TURNING</td>\n",
       "      <td>NOT DIVIDED</td>\n",
       "      <td>STRAIGHT AND LEVEL</td>\n",
       "      <td>DRY</td>\n",
       "      <td>...</td>\n",
       "      <td>0.0</td>\n",
       "      <td>0.0</td>\n",
       "      <td>0.0</td>\n",
       "      <td>0.0</td>\n",
       "      <td>2.0</td>\n",
       "      <td>0.0</td>\n",
       "      <td>5</td>\n",
       "      <td>5</td>\n",
       "      <td>4</td>\n",
       "      <td>No Injury</td>\n",
       "    </tr>\n",
       "    <tr>\n",
       "      <th>3</th>\n",
       "      <td>04/24/2025 11:13:00 AM</td>\n",
       "      <td>30</td>\n",
       "      <td>NO CONTROLS</td>\n",
       "      <td>NO CONTROLS</td>\n",
       "      <td>CLEAR</td>\n",
       "      <td>DAYLIGHT</td>\n",
       "      <td>FIXED OBJECT</td>\n",
       "      <td>ALLEY</td>\n",
       "      <td>STRAIGHT AND LEVEL</td>\n",
       "      <td>DRY</td>\n",
       "      <td>...</td>\n",
       "      <td>0.0</td>\n",
       "      <td>0.0</td>\n",
       "      <td>0.0</td>\n",
       "      <td>1.0</td>\n",
       "      <td>0.0</td>\n",
       "      <td>0.0</td>\n",
       "      <td>11</td>\n",
       "      <td>5</td>\n",
       "      <td>4</td>\n",
       "      <td>Injury/Fatal</td>\n",
       "    </tr>\n",
       "    <tr>\n",
       "      <th>4</th>\n",
       "      <td>01/15/2025 01:50:00 PM</td>\n",
       "      <td>30</td>\n",
       "      <td>NO CONTROLS</td>\n",
       "      <td>NO CONTROLS</td>\n",
       "      <td>CLEAR</td>\n",
       "      <td>DAYLIGHT</td>\n",
       "      <td>FIXED OBJECT</td>\n",
       "      <td>RAMP</td>\n",
       "      <td>STRAIGHT AND LEVEL</td>\n",
       "      <td>DRY</td>\n",
       "      <td>...</td>\n",
       "      <td>0.0</td>\n",
       "      <td>0.0</td>\n",
       "      <td>0.0</td>\n",
       "      <td>0.0</td>\n",
       "      <td>1.0</td>\n",
       "      <td>0.0</td>\n",
       "      <td>13</td>\n",
       "      <td>4</td>\n",
       "      <td>1</td>\n",
       "      <td>No Injury</td>\n",
       "    </tr>\n",
       "    <tr>\n",
       "      <th>...</th>\n",
       "      <td>...</td>\n",
       "      <td>...</td>\n",
       "      <td>...</td>\n",
       "      <td>...</td>\n",
       "      <td>...</td>\n",
       "      <td>...</td>\n",
       "      <td>...</td>\n",
       "      <td>...</td>\n",
       "      <td>...</td>\n",
       "      <td>...</td>\n",
       "      <td>...</td>\n",
       "      <td>...</td>\n",
       "      <td>...</td>\n",
       "      <td>...</td>\n",
       "      <td>...</td>\n",
       "      <td>...</td>\n",
       "      <td>...</td>\n",
       "      <td>...</td>\n",
       "      <td>...</td>\n",
       "      <td>...</td>\n",
       "      <td>...</td>\n",
       "    </tr>\n",
       "    <tr>\n",
       "      <th>950738</th>\n",
       "      <td>01/28/2025 03:50:00 PM</td>\n",
       "      <td>40</td>\n",
       "      <td>NO CONTROLS</td>\n",
       "      <td>NO CONTROLS</td>\n",
       "      <td>CLEAR</td>\n",
       "      <td>DAYLIGHT</td>\n",
       "      <td>SIDESWIPE SAME DIRECTION</td>\n",
       "      <td>DIVIDED - W/MEDIAN BARRIER</td>\n",
       "      <td>STRAIGHT AND LEVEL</td>\n",
       "      <td>DRY</td>\n",
       "      <td>...</td>\n",
       "      <td>0.0</td>\n",
       "      <td>0.0</td>\n",
       "      <td>0.0</td>\n",
       "      <td>0.0</td>\n",
       "      <td>2.0</td>\n",
       "      <td>0.0</td>\n",
       "      <td>15</td>\n",
       "      <td>3</td>\n",
       "      <td>1</td>\n",
       "      <td>No Injury</td>\n",
       "    </tr>\n",
       "    <tr>\n",
       "      <th>950739</th>\n",
       "      <td>01/29/2025 07:25:00 PM</td>\n",
       "      <td>30</td>\n",
       "      <td>NO CONTROLS</td>\n",
       "      <td>NO CONTROLS</td>\n",
       "      <td>CLEAR</td>\n",
       "      <td>DARKNESS, LIGHTED ROAD</td>\n",
       "      <td>REAR END</td>\n",
       "      <td>PARKING LOT</td>\n",
       "      <td>STRAIGHT AND LEVEL</td>\n",
       "      <td>DRY</td>\n",
       "      <td>...</td>\n",
       "      <td>0.0</td>\n",
       "      <td>0.0</td>\n",
       "      <td>0.0</td>\n",
       "      <td>0.0</td>\n",
       "      <td>2.0</td>\n",
       "      <td>0.0</td>\n",
       "      <td>19</td>\n",
       "      <td>4</td>\n",
       "      <td>1</td>\n",
       "      <td>No Injury</td>\n",
       "    </tr>\n",
       "    <tr>\n",
       "      <th>950740</th>\n",
       "      <td>01/29/2025 09:27:00 AM</td>\n",
       "      <td>30</td>\n",
       "      <td>TRAFFIC SIGNAL</td>\n",
       "      <td>FUNCTIONING PROPERLY</td>\n",
       "      <td>CLEAR</td>\n",
       "      <td>DAYLIGHT</td>\n",
       "      <td>REAR END</td>\n",
       "      <td>FOUR WAY</td>\n",
       "      <td>STRAIGHT AND LEVEL</td>\n",
       "      <td>DRY</td>\n",
       "      <td>...</td>\n",
       "      <td>0.0</td>\n",
       "      <td>0.0</td>\n",
       "      <td>0.0</td>\n",
       "      <td>0.0</td>\n",
       "      <td>2.0</td>\n",
       "      <td>0.0</td>\n",
       "      <td>9</td>\n",
       "      <td>4</td>\n",
       "      <td>1</td>\n",
       "      <td>No Injury</td>\n",
       "    </tr>\n",
       "    <tr>\n",
       "      <th>950741</th>\n",
       "      <td>01/29/2025 07:08:00 PM</td>\n",
       "      <td>30</td>\n",
       "      <td>TRAFFIC SIGNAL</td>\n",
       "      <td>FUNCTIONING PROPERLY</td>\n",
       "      <td>CLEAR</td>\n",
       "      <td>DARKNESS, LIGHTED ROAD</td>\n",
       "      <td>PEDESTRIAN</td>\n",
       "      <td>FOUR WAY</td>\n",
       "      <td>STRAIGHT AND LEVEL</td>\n",
       "      <td>DRY</td>\n",
       "      <td>...</td>\n",
       "      <td>0.0</td>\n",
       "      <td>0.0</td>\n",
       "      <td>1.0</td>\n",
       "      <td>0.0</td>\n",
       "      <td>1.0</td>\n",
       "      <td>0.0</td>\n",
       "      <td>19</td>\n",
       "      <td>4</td>\n",
       "      <td>1</td>\n",
       "      <td>Injury/Fatal</td>\n",
       "    </tr>\n",
       "    <tr>\n",
       "      <th>950742</th>\n",
       "      <td>09/13/2023 01:08:00 PM</td>\n",
       "      <td>30</td>\n",
       "      <td>UNKNOWN</td>\n",
       "      <td>UNKNOWN</td>\n",
       "      <td>UNKNOWN</td>\n",
       "      <td>UNKNOWN</td>\n",
       "      <td>TURNING</td>\n",
       "      <td>FOUR WAY</td>\n",
       "      <td>STRAIGHT AND LEVEL</td>\n",
       "      <td>UNKNOWN</td>\n",
       "      <td>...</td>\n",
       "      <td>0.0</td>\n",
       "      <td>0.0</td>\n",
       "      <td>0.0</td>\n",
       "      <td>0.0</td>\n",
       "      <td>2.0</td>\n",
       "      <td>0.0</td>\n",
       "      <td>13</td>\n",
       "      <td>4</td>\n",
       "      <td>9</td>\n",
       "      <td>No Injury</td>\n",
       "    </tr>\n",
       "  </tbody>\n",
       "</table>\n",
       "<p>950743 rows × 30 columns</p>\n",
       "</div>"
      ],
      "text/plain": [
       "                    CRASH_DATE  POSTED_SPEED_LIMIT TRAFFIC_CONTROL_DEVICE  \\\n",
       "0       04/04/2025 01:57:00 AM                  15            NO CONTROLS   \n",
       "1       04/24/2025 08:40:00 PM                  10            NO CONTROLS   \n",
       "2       04/24/2025 05:45:00 AM                  30         TRAFFIC SIGNAL   \n",
       "3       04/24/2025 11:13:00 AM                  30            NO CONTROLS   \n",
       "4       01/15/2025 01:50:00 PM                  30            NO CONTROLS   \n",
       "...                        ...                 ...                    ...   \n",
       "950738  01/28/2025 03:50:00 PM                  40            NO CONTROLS   \n",
       "950739  01/29/2025 07:25:00 PM                  30            NO CONTROLS   \n",
       "950740  01/29/2025 09:27:00 AM                  30         TRAFFIC SIGNAL   \n",
       "950741  01/29/2025 07:08:00 PM                  30         TRAFFIC SIGNAL   \n",
       "950742  09/13/2023 01:08:00 PM                  30                UNKNOWN   \n",
       "\n",
       "            DEVICE_CONDITION WEATHER_CONDITION      LIGHTING_CONDITION  \\\n",
       "0                NO CONTROLS             CLEAR  DARKNESS, LIGHTED ROAD   \n",
       "1                NO CONTROLS             CLEAR                DAYLIGHT   \n",
       "2       FUNCTIONING PROPERLY             CLEAR                    DAWN   \n",
       "3                NO CONTROLS             CLEAR                DAYLIGHT   \n",
       "4                NO CONTROLS             CLEAR                DAYLIGHT   \n",
       "...                      ...               ...                     ...   \n",
       "950738           NO CONTROLS             CLEAR                DAYLIGHT   \n",
       "950739           NO CONTROLS             CLEAR  DARKNESS, LIGHTED ROAD   \n",
       "950740  FUNCTIONING PROPERLY             CLEAR                DAYLIGHT   \n",
       "950741  FUNCTIONING PROPERLY             CLEAR  DARKNESS, LIGHTED ROAD   \n",
       "950742               UNKNOWN           UNKNOWN                 UNKNOWN   \n",
       "\n",
       "                FIRST_CRASH_TYPE             TRAFFICWAY_TYPE  \\\n",
       "0                          ANGLE                 PARKING LOT   \n",
       "1                   REAR TO SIDE                 PARKING LOT   \n",
       "2                        TURNING                 NOT DIVIDED   \n",
       "3                   FIXED OBJECT                       ALLEY   \n",
       "4                   FIXED OBJECT                        RAMP   \n",
       "...                          ...                         ...   \n",
       "950738  SIDESWIPE SAME DIRECTION  DIVIDED - W/MEDIAN BARRIER   \n",
       "950739                  REAR END                 PARKING LOT   \n",
       "950740                  REAR END                    FOUR WAY   \n",
       "950741                PEDESTRIAN                    FOUR WAY   \n",
       "950742                   TURNING                    FOUR WAY   \n",
       "\n",
       "                 ALIGNMENT ROADWAY_SURFACE_COND  ... INJURIES_FATAL  \\\n",
       "0       STRAIGHT AND LEVEL      SAND, MUD, DIRT  ...            0.0   \n",
       "1       STRAIGHT AND LEVEL                  DRY  ...            0.0   \n",
       "2       STRAIGHT AND LEVEL                  DRY  ...            0.0   \n",
       "3       STRAIGHT AND LEVEL                  DRY  ...            0.0   \n",
       "4       STRAIGHT AND LEVEL                  DRY  ...            0.0   \n",
       "...                    ...                  ...  ...            ...   \n",
       "950738  STRAIGHT AND LEVEL                  DRY  ...            0.0   \n",
       "950739  STRAIGHT AND LEVEL                  DRY  ...            0.0   \n",
       "950740  STRAIGHT AND LEVEL                  DRY  ...            0.0   \n",
       "950741  STRAIGHT AND LEVEL                  DRY  ...            0.0   \n",
       "950742  STRAIGHT AND LEVEL              UNKNOWN  ...            0.0   \n",
       "\n",
       "       INJURIES_INCAPACITATING INJURIES_NON_INCAPACITATING  \\\n",
       "0                          0.0                         0.0   \n",
       "1                          0.0                         0.0   \n",
       "2                          0.0                         0.0   \n",
       "3                          0.0                         0.0   \n",
       "4                          0.0                         0.0   \n",
       "...                        ...                         ...   \n",
       "950738                     0.0                         0.0   \n",
       "950739                     0.0                         0.0   \n",
       "950740                     0.0                         0.0   \n",
       "950741                     0.0                         1.0   \n",
       "950742                     0.0                         0.0   \n",
       "\n",
       "       INJURIES_REPORTED_NOT_EVIDENT INJURIES_NO_INDICATION INJURIES_UNKNOWN  \\\n",
       "0                                0.0                    2.0              0.0   \n",
       "1                                0.0                    2.0              0.0   \n",
       "2                                0.0                    2.0              0.0   \n",
       "3                                1.0                    0.0              0.0   \n",
       "4                                0.0                    1.0              0.0   \n",
       "...                              ...                    ...              ...   \n",
       "950738                           0.0                    2.0              0.0   \n",
       "950739                           0.0                    2.0              0.0   \n",
       "950740                           0.0                    2.0              0.0   \n",
       "950741                           0.0                    1.0              0.0   \n",
       "950742                           0.0                    2.0              0.0   \n",
       "\n",
       "       CRASH_HOUR  CRASH_DAY_OF_WEEK CRASH_MONTH  INJURY_OR_FATAL  \n",
       "0               1                  6           4        No Injury  \n",
       "1              20                  5           4        No Injury  \n",
       "2               5                  5           4        No Injury  \n",
       "3              11                  5           4     Injury/Fatal  \n",
       "4              13                  4           1        No Injury  \n",
       "...           ...                ...         ...              ...  \n",
       "950738         15                  3           1        No Injury  \n",
       "950739         19                  4           1        No Injury  \n",
       "950740          9                  4           1        No Injury  \n",
       "950741         19                  4           1     Injury/Fatal  \n",
       "950742         13                  4           9        No Injury  \n",
       "\n",
       "[950743 rows x 30 columns]"
      ]
     },
     "execution_count": 25,
     "metadata": {},
     "output_type": "execute_result"
    }
   ],
   "source": [
    "df"
   ]
  },
  {
   "cell_type": "code",
   "execution_count": 26,
   "metadata": {},
   "outputs": [
    {
     "data": {
      "text/html": [
       "<div>\n",
       "<style scoped>\n",
       "    .dataframe tbody tr th:only-of-type {\n",
       "        vertical-align: middle;\n",
       "    }\n",
       "\n",
       "    .dataframe tbody tr th {\n",
       "        vertical-align: top;\n",
       "    }\n",
       "\n",
       "    .dataframe thead th {\n",
       "        text-align: right;\n",
       "    }\n",
       "</style>\n",
       "<table border=\"1\" class=\"dataframe\">\n",
       "  <thead>\n",
       "    <tr style=\"text-align: right;\">\n",
       "      <th></th>\n",
       "      <th>CRASH_DATE</th>\n",
       "      <th>POSTED_SPEED_LIMIT</th>\n",
       "      <th>TRAFFIC_CONTROL_DEVICE</th>\n",
       "      <th>DEVICE_CONDITION</th>\n",
       "      <th>WEATHER_CONDITION</th>\n",
       "      <th>LIGHTING_CONDITION</th>\n",
       "      <th>FIRST_CRASH_TYPE</th>\n",
       "      <th>TRAFFICWAY_TYPE</th>\n",
       "      <th>ALIGNMENT</th>\n",
       "      <th>ROADWAY_SURFACE_COND</th>\n",
       "      <th>...</th>\n",
       "      <th>INJURIES_FATAL</th>\n",
       "      <th>INJURIES_INCAPACITATING</th>\n",
       "      <th>INJURIES_NON_INCAPACITATING</th>\n",
       "      <th>INJURIES_REPORTED_NOT_EVIDENT</th>\n",
       "      <th>INJURIES_NO_INDICATION</th>\n",
       "      <th>INJURIES_UNKNOWN</th>\n",
       "      <th>CRASH_HOUR</th>\n",
       "      <th>CRASH_DAY_OF_WEEK</th>\n",
       "      <th>CRASH_MONTH</th>\n",
       "      <th>INJURY_OR_FATAL</th>\n",
       "    </tr>\n",
       "  </thead>\n",
       "  <tbody>\n",
       "    <tr>\n",
       "      <th>0</th>\n",
       "      <td>04/04/2025 01:57:00 AM</td>\n",
       "      <td>15</td>\n",
       "      <td>NO CONTROLS</td>\n",
       "      <td>NO CONTROLS</td>\n",
       "      <td>CLEAR</td>\n",
       "      <td>DARKNESS, LIGHTED ROAD</td>\n",
       "      <td>ANGLE</td>\n",
       "      <td>PARKING LOT</td>\n",
       "      <td>STRAIGHT AND LEVEL</td>\n",
       "      <td>SAND, MUD, DIRT</td>\n",
       "      <td>...</td>\n",
       "      <td>0.0</td>\n",
       "      <td>0.0</td>\n",
       "      <td>0.0</td>\n",
       "      <td>0.0</td>\n",
       "      <td>2.0</td>\n",
       "      <td>0.0</td>\n",
       "      <td>1</td>\n",
       "      <td>6</td>\n",
       "      <td>4</td>\n",
       "      <td>No Injury</td>\n",
       "    </tr>\n",
       "    <tr>\n",
       "      <th>1</th>\n",
       "      <td>04/24/2025 08:40:00 PM</td>\n",
       "      <td>10</td>\n",
       "      <td>NO CONTROLS</td>\n",
       "      <td>NO CONTROLS</td>\n",
       "      <td>CLEAR</td>\n",
       "      <td>DAYLIGHT</td>\n",
       "      <td>REAR TO SIDE</td>\n",
       "      <td>PARKING LOT</td>\n",
       "      <td>STRAIGHT AND LEVEL</td>\n",
       "      <td>DRY</td>\n",
       "      <td>...</td>\n",
       "      <td>0.0</td>\n",
       "      <td>0.0</td>\n",
       "      <td>0.0</td>\n",
       "      <td>0.0</td>\n",
       "      <td>2.0</td>\n",
       "      <td>0.0</td>\n",
       "      <td>20</td>\n",
       "      <td>5</td>\n",
       "      <td>4</td>\n",
       "      <td>No Injury</td>\n",
       "    </tr>\n",
       "    <tr>\n",
       "      <th>2</th>\n",
       "      <td>04/24/2025 05:45:00 AM</td>\n",
       "      <td>30</td>\n",
       "      <td>TRAFFIC SIGNAL</td>\n",
       "      <td>FUNCTIONING PROPERLY</td>\n",
       "      <td>CLEAR</td>\n",
       "      <td>DAWN</td>\n",
       "      <td>TURNING</td>\n",
       "      <td>NOT DIVIDED</td>\n",
       "      <td>STRAIGHT AND LEVEL</td>\n",
       "      <td>DRY</td>\n",
       "      <td>...</td>\n",
       "      <td>0.0</td>\n",
       "      <td>0.0</td>\n",
       "      <td>0.0</td>\n",
       "      <td>0.0</td>\n",
       "      <td>2.0</td>\n",
       "      <td>0.0</td>\n",
       "      <td>5</td>\n",
       "      <td>5</td>\n",
       "      <td>4</td>\n",
       "      <td>No Injury</td>\n",
       "    </tr>\n",
       "    <tr>\n",
       "      <th>3</th>\n",
       "      <td>04/24/2025 11:13:00 AM</td>\n",
       "      <td>30</td>\n",
       "      <td>NO CONTROLS</td>\n",
       "      <td>NO CONTROLS</td>\n",
       "      <td>CLEAR</td>\n",
       "      <td>DAYLIGHT</td>\n",
       "      <td>FIXED OBJECT</td>\n",
       "      <td>ALLEY</td>\n",
       "      <td>STRAIGHT AND LEVEL</td>\n",
       "      <td>DRY</td>\n",
       "      <td>...</td>\n",
       "      <td>0.0</td>\n",
       "      <td>0.0</td>\n",
       "      <td>0.0</td>\n",
       "      <td>1.0</td>\n",
       "      <td>0.0</td>\n",
       "      <td>0.0</td>\n",
       "      <td>11</td>\n",
       "      <td>5</td>\n",
       "      <td>4</td>\n",
       "      <td>Injury/Fatal</td>\n",
       "    </tr>\n",
       "    <tr>\n",
       "      <th>4</th>\n",
       "      <td>01/15/2025 01:50:00 PM</td>\n",
       "      <td>30</td>\n",
       "      <td>NO CONTROLS</td>\n",
       "      <td>NO CONTROLS</td>\n",
       "      <td>CLEAR</td>\n",
       "      <td>DAYLIGHT</td>\n",
       "      <td>FIXED OBJECT</td>\n",
       "      <td>RAMP</td>\n",
       "      <td>STRAIGHT AND LEVEL</td>\n",
       "      <td>DRY</td>\n",
       "      <td>...</td>\n",
       "      <td>0.0</td>\n",
       "      <td>0.0</td>\n",
       "      <td>0.0</td>\n",
       "      <td>0.0</td>\n",
       "      <td>1.0</td>\n",
       "      <td>0.0</td>\n",
       "      <td>13</td>\n",
       "      <td>4</td>\n",
       "      <td>1</td>\n",
       "      <td>No Injury</td>\n",
       "    </tr>\n",
       "  </tbody>\n",
       "</table>\n",
       "<p>5 rows × 30 columns</p>\n",
       "</div>"
      ],
      "text/plain": [
       "               CRASH_DATE  POSTED_SPEED_LIMIT TRAFFIC_CONTROL_DEVICE  \\\n",
       "0  04/04/2025 01:57:00 AM                  15            NO CONTROLS   \n",
       "1  04/24/2025 08:40:00 PM                  10            NO CONTROLS   \n",
       "2  04/24/2025 05:45:00 AM                  30         TRAFFIC SIGNAL   \n",
       "3  04/24/2025 11:13:00 AM                  30            NO CONTROLS   \n",
       "4  01/15/2025 01:50:00 PM                  30            NO CONTROLS   \n",
       "\n",
       "       DEVICE_CONDITION WEATHER_CONDITION      LIGHTING_CONDITION  \\\n",
       "0           NO CONTROLS             CLEAR  DARKNESS, LIGHTED ROAD   \n",
       "1           NO CONTROLS             CLEAR                DAYLIGHT   \n",
       "2  FUNCTIONING PROPERLY             CLEAR                    DAWN   \n",
       "3           NO CONTROLS             CLEAR                DAYLIGHT   \n",
       "4           NO CONTROLS             CLEAR                DAYLIGHT   \n",
       "\n",
       "  FIRST_CRASH_TYPE TRAFFICWAY_TYPE           ALIGNMENT ROADWAY_SURFACE_COND  \\\n",
       "0            ANGLE     PARKING LOT  STRAIGHT AND LEVEL      SAND, MUD, DIRT   \n",
       "1     REAR TO SIDE     PARKING LOT  STRAIGHT AND LEVEL                  DRY   \n",
       "2          TURNING     NOT DIVIDED  STRAIGHT AND LEVEL                  DRY   \n",
       "3     FIXED OBJECT           ALLEY  STRAIGHT AND LEVEL                  DRY   \n",
       "4     FIXED OBJECT            RAMP  STRAIGHT AND LEVEL                  DRY   \n",
       "\n",
       "   ... INJURIES_FATAL INJURIES_INCAPACITATING INJURIES_NON_INCAPACITATING  \\\n",
       "0  ...            0.0                     0.0                         0.0   \n",
       "1  ...            0.0                     0.0                         0.0   \n",
       "2  ...            0.0                     0.0                         0.0   \n",
       "3  ...            0.0                     0.0                         0.0   \n",
       "4  ...            0.0                     0.0                         0.0   \n",
       "\n",
       "  INJURIES_REPORTED_NOT_EVIDENT INJURIES_NO_INDICATION INJURIES_UNKNOWN  \\\n",
       "0                           0.0                    2.0              0.0   \n",
       "1                           0.0                    2.0              0.0   \n",
       "2                           0.0                    2.0              0.0   \n",
       "3                           1.0                    0.0              0.0   \n",
       "4                           0.0                    1.0              0.0   \n",
       "\n",
       "  CRASH_HOUR  CRASH_DAY_OF_WEEK CRASH_MONTH  INJURY_OR_FATAL  \n",
       "0          1                  6           4        No Injury  \n",
       "1         20                  5           4        No Injury  \n",
       "2          5                  5           4        No Injury  \n",
       "3         11                  5           4     Injury/Fatal  \n",
       "4         13                  4           1        No Injury  \n",
       "\n",
       "[5 rows x 30 columns]"
      ]
     },
     "execution_count": 26,
     "metadata": {},
     "output_type": "execute_result"
    }
   ],
   "source": [
    "#Checking the head\n",
    "df.head()"
   ]
  },
  {
   "cell_type": "markdown",
   "metadata": {},
   "source": [
    "## 5. Exploratory Data Analysis"
   ]
  },
  {
   "cell_type": "markdown",
   "metadata": {},
   "source": [
    "### Target Variable Overview"
   ]
  },
  {
   "cell_type": "code",
   "execution_count": 27,
   "metadata": {},
   "outputs": [
    {
     "data": {
      "text/plain": [
       "NO INDICATION OF INJURY     814265\n",
       "NONINCAPACITATING INJURY     75177\n",
       "REPORTED, NOT EVIDENT        42537\n",
       "INCAPACITATING INJURY        15646\n",
       "unknown                       2095\n",
       "FATAL                         1023\n",
       "Name: MOST_SEVERE_INJURY, dtype: int64"
      ]
     },
     "execution_count": 27,
     "metadata": {},
     "output_type": "execute_result"
    }
   ],
   "source": [
    "#Checking for unique values and distribution\n",
    "df['MOST_SEVERE_INJURY'].value_counts(dropna=False)"
   ]
  },
  {
   "cell_type": "markdown",
   "metadata": {},
   "source": [
    "The dataset is imbalanced: most crashes result in no injury or unknown injury.\n"
   ]
  },
  {
   "cell_type": "markdown",
   "metadata": {},
   "source": [
    "### Univariate Analysis\n"
   ]
  },
  {
   "cell_type": "code",
   "execution_count": 28,
   "metadata": {},
   "outputs": [],
   "source": [
    "#For Categorical Variables\n",
    "import matplotlib.pyplot as plt\n",
    "import seaborn as sns"
   ]
  },
  {
   "cell_type": "markdown",
   "metadata": {},
   "source": [
    "#### Measures of Central Tendency"
   ]
  },
  {
   "cell_type": "code",
   "execution_count": 29,
   "metadata": {},
   "outputs": [
    {
     "name": "stdout",
     "output_type": "stream",
     "text": [
      "Mean Crash Hour: 13.193599111431796\n",
      "Median Crash Hour: 14.0\n",
      "Mode Crash Hour: 15\n"
     ]
    }
   ],
   "source": [
    "#Distribution using CRASH_HOUR\n",
    "print(\"Mean Crash Hour:\", df['CRASH_HOUR'].mean())\n",
    "print(\"Median Crash Hour:\", df['CRASH_HOUR'].median())\n",
    "print(\"Mode Crash Hour:\", df['CRASH_HOUR'].mode()[0])"
   ]
  },
  {
   "cell_type": "markdown",
   "metadata": {},
   "source": [
    "The mean and median are close, meaning distribution is likely symmetric."
   ]
  },
  {
   "cell_type": "code",
   "execution_count": 30,
   "metadata": {},
   "outputs": [
    {
     "name": "stdout",
     "output_type": "stream",
     "text": [
      "Mean Injuries per Crash: 0.19552274677387732\n",
      "Median Injuries per Crash: 0.0\n",
      "Mode Injuries per Crash: 0.0\n"
     ]
    }
   ],
   "source": [
    "#Distribution using INJURIES_TOTAL\n",
    "print(\"Mean Injuries per Crash:\", df['INJURIES_TOTAL'].mean())\n",
    "print(\"Median Injuries per Crash:\", df['INJURIES_TOTAL'].median())\n",
    "print(\"Mode Injuries per Crash:\", df['INJURIES_TOTAL'].mode()[0])"
   ]
  },
  {
   "cell_type": "markdown",
   "metadata": {},
   "source": [
    "Most crashes do not result in injury."
   ]
  },
  {
   "cell_type": "code",
   "execution_count": 31,
   "metadata": {},
   "outputs": [
    {
     "name": "stdout",
     "output_type": "stream",
     "text": [
      "Most Common Weather Condition: CLEAR\n"
     ]
    }
   ],
   "source": [
    "#Distribution using WEATHER_CONDITION\n",
    "print(\"Most Common Weather Condition:\", df['WEATHER_CONDITION'].mode()[0])"
   ]
  },
  {
   "cell_type": "markdown",
   "metadata": {},
   "source": [
    "The mode shows frequent weather condition during crashes likely to be Clear."
   ]
  },
  {
   "cell_type": "markdown",
   "metadata": {},
   "source": [
    "#### Measures of Dispersion"
   ]
  },
  {
   "cell_type": "markdown",
   "metadata": {},
   "source": [
    "1. Range\n",
    "\n",
    "#Measures the difference between the maximum and minimum values."
   ]
  },
  {
   "cell_type": "code",
   "execution_count": 32,
   "metadata": {},
   "outputs": [
    {
     "name": "stdout",
     "output_type": "stream",
     "text": [
      "Range of Crash Hour: 23\n"
     ]
    }
   ],
   "source": [
    "range_hour = df['CRASH_HOUR'].max() - df['CRASH_HOUR'].min()\n",
    "print(\"Range of Crash Hour:\", range_hour)"
   ]
  },
  {
   "cell_type": "markdown",
   "metadata": {},
   "source": [
    "2. Standard Deviation\n",
    "\n",
    "#Tells how much the values deviate from the mean."
   ]
  },
  {
   "cell_type": "code",
   "execution_count": 33,
   "metadata": {},
   "outputs": [
    {
     "name": "stdout",
     "output_type": "stream",
     "text": [
      "Standard Deviation of Crash Hour: 5.571073525619302\n"
     ]
    }
   ],
   "source": [
    "print(\"Standard Deviation of Crash Hour:\", df['CRASH_HOUR'].std())"
   ]
  },
  {
   "cell_type": "markdown",
   "metadata": {},
   "source": [
    "3. Variance\n",
    "\n",
    "#Square of the standard deviation."
   ]
  },
  {
   "cell_type": "code",
   "execution_count": 34,
   "metadata": {},
   "outputs": [
    {
     "name": "stdout",
     "output_type": "stream",
     "text": [
      "Variance of Crash Hour: 31.036860227856284\n"
     ]
    }
   ],
   "source": [
    "print(\"Variance of Crash Hour:\", df['CRASH_HOUR'].var())"
   ]
  },
  {
   "cell_type": "markdown",
   "metadata": {},
   "source": [
    "4. Interquartile Range (IQR)\n",
    "\n",
    "#Difference between the 75th percentile (Q3) and 25th percentile (Q1).\n",
    "\n",
    "#Good for identifying outliers and skewness."
   ]
  },
  {
   "cell_type": "code",
   "execution_count": 35,
   "metadata": {},
   "outputs": [
    {
     "name": "stdout",
     "output_type": "stream",
     "text": [
      "Range: 21.0\n",
      "Std Dev: 0.5742895628502768\n",
      "IQR: 0.0\n"
     ]
    }
   ],
   "source": [
    "#Example using INJURIES_TOTAL Spread\n",
    "print(\"Range:\", df['INJURIES_TOTAL'].max() - df['INJURIES_TOTAL'].min())\n",
    "print(\"Std Dev:\", df['INJURIES_TOTAL'].std())\n",
    "print(\"IQR:\", df['INJURIES_TOTAL'].quantile(0.75) - df['INJURIES_TOTAL'].quantile(0.25))"
   ]
  },
  {
   "cell_type": "code",
   "execution_count": 36,
   "metadata": {},
   "outputs": [
    {
     "data": {
      "image/png": "[encoded data removed]",
      "text/plain": [
       "<Figure size 432x288 with 1 Axes>"
      ]
     },
     "metadata": {
      "needs_background": "light"
     },
     "output_type": "display_data"
    }
   ],
   "source": [
    "#Visualizing Dispersion (Boxplot)\n",
    "import seaborn as sns\n",
    "import matplotlib.pyplot as plt\n",
    "\n",
    "sns.boxplot(x=df['INJURIES_TOTAL'])\n",
    "plt.title('Boxplot of Injuries per Crash')\n",
    "plt.show()"
   ]
  },
  {
   "cell_type": "code",
   "execution_count": 37,
   "metadata": {},
   "outputs": [
    {
     "data": {
      "image/png": "[encoded data removed]",
      "text/plain": [
       "<Figure size 720x288 with 1 Axes>"
      ]
     },
     "metadata": {
      "needs_background": "light"
     },
     "output_type": "display_data"
    }
   ],
   "source": [
    "# Example based on Weather Condition\n",
    "plt.figure(figsize=(10, 4))\n",
    "sns.countplot(data=df, x='WEATHER_CONDITION', order=df['WEATHER_CONDITION'].value_counts().index)\n",
    "plt.xticks(rotation=45)\n",
    "plt.title('Weather Condition Distribution')\n",
    "plt.show()"
   ]
  },
  {
   "cell_type": "markdown",
   "metadata": {},
   "source": [
    "#Most crashes occurred under clear weather and daylight, meaning environmental hazards aren't the dominant factors.\n",
    "\n",
    "#However, rain, snow, and darkness still correlate with a slightly higher injury/fatality rate."
   ]
  },
  {
   "cell_type": "code",
   "execution_count": 38,
   "metadata": {},
   "outputs": [
    {
     "data": {
      "image/png": "[encoded data removed]",
      "text/plain": [
       "<Figure size 432x288 with 1 Axes>"
      ]
     },
     "metadata": {
      "needs_background": "light"
     },
     "output_type": "display_data"
    }
   ],
   "source": [
    "#For Numerical Variables\n",
    "df['POSTED_SPEED_LIMIT'].describe()\n",
    "sns.histplot(df['POSTED_SPEED_LIMIT'], bins=20, kde=True)\n",
    "plt.title('Speed Limit Distribution')\n",
    "plt.show()"
   ]
  },
  {
   "cell_type": "markdown",
   "metadata": {},
   "source": [
    "#Higher POSTED_SPEED_LIMIT is positively associated with injury/fatality.\n",
    "\n"
   ]
  },
  {
   "cell_type": "markdown",
   "metadata": {},
   "source": [
    "### Bivariate Analysis\n"
   ]
  },
  {
   "cell_type": "code",
   "execution_count": 39,
   "metadata": {},
   "outputs": [
    {
     "data": {
      "image/png": "[encoded data removed]",
      "text/plain": [
       "<Figure size 720x360 with 1 Axes>"
      ]
     },
     "metadata": {
      "needs_background": "light"
     },
     "output_type": "display_data"
    }
   ],
   "source": [
    "#Injury or Fatal vs Weather\n",
    "injury_weather = pd.crosstab(df['WEATHER_CONDITION'], df['INJURY_OR_FATAL'], normalize='index')\n",
    "injury_weather.plot(kind='bar', stacked=True, figsize=(10, 5), colormap='coolwarm')\n",
    "plt.title('Proportion of Injuries/Fatalities by Weather Condition')\n",
    "plt.ylabel('Proportion')\n",
    "plt.show()"
   ]
  },
  {
   "cell_type": "markdown",
   "metadata": {},
   "source": [
    "#Crashes during adverse weather conditions such as rain, snow, or fog/smoke are more likely to result in injuries or fatalities compared to crashes that occur during clear weather."
   ]
  },
  {
   "cell_type": "code",
   "execution_count": 40,
   "metadata": {},
   "outputs": [
    {
     "data": {
      "image/png": "[encoded data removed]",
      "text/plain": [
       "<Figure size 432x288 with 1 Axes>"
      ]
     },
     "metadata": {
      "needs_background": "light"
     },
     "output_type": "display_data"
    }
   ],
   "source": [
    "#Speed vs Injuries\n",
    "sns.boxplot(data=df, x='INJURY_OR_FATAL', y='POSTED_SPEED_LIMIT')\n",
    "plt.title('Speed Limit by Injury Outcome')\n",
    "plt.show()"
   ]
  },
  {
   "cell_type": "markdown",
   "metadata": {},
   "source": [
    "#Injury crashes tend to occur more on roads with 40+ mph limits."
   ]
  },
  {
   "cell_type": "code",
   "execution_count": 41,
   "metadata": {},
   "outputs": [
    {
     "data": {
      "image/png": "[encoded data removed]",
      "text/plain": [
       "<Figure size 432x288 with 1 Axes>"
      ]
     },
     "metadata": {
      "needs_background": "light"
     },
     "output_type": "display_data"
    }
   ],
   "source": [
    "#Example using CRASH_HOUR vs INJURIES_TOTAL\n",
    "sns.scatterplot(x='CRASH_HOUR', y='INJURIES_TOTAL', data=df, alpha=0.3)\n",
    "plt.title('Crash Hour vs. Total Injuries')\n",
    "plt.show()"
   ]
  },
  {
   "cell_type": "markdown",
   "metadata": {},
   "source": [
    "### Correlation (Numerical Features)"
   ]
  },
  {
   "cell_type": "code",
   "execution_count": 42,
   "metadata": {},
   "outputs": [],
   "source": [
    "# Only numeric columns\n",
    "numeric_cols = df.select_dtypes(include='number')"
   ]
  },
  {
   "cell_type": "code",
   "execution_count": 43,
   "metadata": {},
   "outputs": [
    {
     "data": {
      "image/png": "[encoded data removed]",
      "text/plain": [
       "<Figure size 864x576 with 2 Axes>"
      ]
     },
     "metadata": {
      "needs_background": "light"
     },
     "output_type": "display_data"
    }
   ],
   "source": [
    "# Correlation heatmap\n",
    "plt.figure(figsize=(12, 8))\n",
    "sns.heatmap(numeric_cols.corr(), annot=True, cmap='coolwarm', fmt='.2f')\n",
    "plt.title('Correlation Heatmap')\n",
    "plt.show()"
   ]
  },
  {
   "cell_type": "markdown",
   "metadata": {},
   "source": [
    "#Injury-related variables like INJURIES_FATAL, INJURIES_INCAPACITATING are highly correlated with INJURY_OR_FATAL — expected and confirms label validity."
   ]
  },
  {
   "cell_type": "markdown",
   "metadata": {},
   "source": [
    "## 6. Model Building"
   ]
  },
  {
   "cell_type": "markdown",
   "metadata": {},
   "source": [
    "### 1. Problem Definition"
   ]
  },
  {
   "cell_type": "markdown",
   "metadata": {},
   "source": [
    "Solving a binary classification problem:\n",
    "\n",
    "Target Variable - INJURY_OR_FATAL\n",
    "\n",
    "Description - 1 = Injury/Fatality, 0 = No Injury/Fatality"
   ]
  },
  {
   "cell_type": "markdown",
   "metadata": {},
   "source": [
    "## Iterative Modeling Approach"
   ]
  },
  {
   "cell_type": "markdown",
   "metadata": {},
   "source": [
    "### 1. Problem Definition"
   ]
  },
  {
   "cell_type": "markdown",
   "metadata": {},
   "source": [
    "\n",
    "We are solving a binary classification problem to predict whether a traffic crash resulted in injury or fatality (INJURY_OR_FATAL = 1) or not (INJURY_OR_FATAL = 0). This insight can be used to inform traffic safety policies."
   ]
  },
  {
   "cell_type": "markdown",
   "metadata": {},
   "source": [
    "#### Data preparation"
   ]
  },
  {
   "cell_type": "markdown",
   "metadata": {},
   "source": [
    "#### Feature Selection based on EDA"
   ]
  },
  {
   "cell_type": "code",
   "execution_count": 44,
   "metadata": {},
   "outputs": [],
   "source": [
    "#Selected Features were based on EDA and domain logic\n",
    "features = [\n",
    "    'CRASH_HOUR', 'CRASH_DAY_OF_WEEK', 'CRASH_MONTH', 'POSTED_SPEED_LIMIT',\n",
    "    'WEATHER_CONDITION', 'LIGHTING_CONDITION', 'FIRST_CRASH_TYPE',\n",
    "    'TRAFFIC_CONTROL_DEVICE', 'ROADWAY_SURFACE_COND', 'NUM_UNITS'\n",
    "]\n",
    "X = df[features]\n",
    "y = df['INJURY_OR_FATAL']"
   ]
  },
  {
   "cell_type": "code",
   "execution_count": 45,
   "metadata": {},
   "outputs": [],
   "source": [
    "# Define feature matrix and target\n",
    "X = df[features]\n",
    "y = df['INJURY_OR_FATAL']\n"
   ]
  },
  {
   "cell_type": "code",
   "execution_count": 46,
   "metadata": {},
   "outputs": [
    {
     "name": "stdout",
     "output_type": "stream",
     "text": [
      "Unique values in target: ['No Injury' 'Injury/Fatal']\n"
     ]
    }
   ],
   "source": [
    "# Confirming target values \n",
    "print(\"Unique values in target:\", y.unique())\n"
   ]
  },
  {
   "cell_type": "code",
   "execution_count": 47,
   "metadata": {},
   "outputs": [],
   "source": [
    "# Converting target to binary if still in string format\n",
    "if y.dtype == 'O':  # object = likely string\n",
    "    y = y.map({'No Injury': 0, 'Injury/Fatal': 1})"
   ]
  },
  {
   "cell_type": "code",
   "execution_count": 48,
   "metadata": {},
   "outputs": [
    {
     "name": "stdout",
     "output_type": "stream",
     "text": [
      "\n",
      "Class distribution:\n",
      "0    0.856451\n",
      "1    0.143549\n",
      "Name: INJURY_OR_FATAL, dtype: float64\n"
     ]
    }
   ],
   "source": [
    "# Checking class balance\n",
    "print(\"\\nClass distribution:\")\n",
    "print(y.value_counts(normalize=True))"
   ]
  },
  {
   "cell_type": "code",
   "execution_count": 49,
   "metadata": {},
   "outputs": [
    {
     "name": "stdout",
     "output_type": "stream",
     "text": [
      "\n",
      "Missing values in features:\n",
      "CRASH_HOUR                0\n",
      "CRASH_DAY_OF_WEEK         0\n",
      "CRASH_MONTH               0\n",
      "POSTED_SPEED_LIMIT        0\n",
      "WEATHER_CONDITION         0\n",
      "LIGHTING_CONDITION        0\n",
      "FIRST_CRASH_TYPE          0\n",
      "TRAFFIC_CONTROL_DEVICE    0\n",
      "ROADWAY_SURFACE_COND      0\n",
      "NUM_UNITS                 0\n",
      "dtype: int64\n"
     ]
    }
   ],
   "source": [
    "# Handling missing values if needed\n",
    "print(\"\\nMissing values in features:\")\n",
    "print(X.isnull().sum())"
   ]
  },
  {
   "cell_type": "code",
   "execution_count": 50,
   "metadata": {},
   "outputs": [],
   "source": [
    "# Fill or drop NAs as appropriate\n",
    "X = X.fillna('Unknown')"
   ]
  },
  {
   "cell_type": "markdown",
   "metadata": {},
   "source": [
    "#### Handling Categorical Variables"
   ]
  },
  {
   "cell_type": "code",
   "execution_count": 51,
   "metadata": {},
   "outputs": [],
   "source": [
    "#Categorical variables were encoded using one-hot encoding.\n",
    "X = pd.get_dummies(X, drop_first=True)"
   ]
  },
  {
   "cell_type": "markdown",
   "metadata": {},
   "source": [
    "#### Train-Test Split"
   ]
  },
  {
   "cell_type": "code",
   "execution_count": 52,
   "metadata": {},
   "outputs": [],
   "source": [
    "\n",
    "from sklearn.model_selection import train_test_split\n",
    "\n",
    "X_train, X_test, y_train, y_test = train_test_split(\n",
    "    X, y, test_size=0.2, random_state=42, stratify=y)"
   ]
  },
  {
   "cell_type": "markdown",
   "metadata": {},
   "source": [
    "## 3. Model Training"
   ]
  },
  {
   "cell_type": "code",
   "execution_count": 53,
   "metadata": {},
   "outputs": [],
   "source": [
    "#Importing necessary libraries \n",
    "from sklearn.linear_model import LogisticRegression\n",
    "from sklearn.tree import DecisionTreeClassifier\n",
    "from sklearn.metrics import classification_report"
   ]
  },
  {
   "cell_type": "code",
   "execution_count": 54,
   "metadata": {},
   "outputs": [
    {
     "data": {
      "text/plain": [
       "LogisticRegression(max_iter=1000)"
      ]
     },
     "execution_count": 54,
     "metadata": {},
     "output_type": "execute_result"
    }
   ],
   "source": [
    "# Logistic Regression\n",
    "lr = LogisticRegression(max_iter=1000)\n",
    "lr.fit(X_train, y_train)"
   ]
  },
  {
   "cell_type": "code",
   "execution_count": 55,
   "metadata": {},
   "outputs": [
    {
     "data": {
      "text/plain": [
       "DecisionTreeClassifier(max_depth=5)"
      ]
     },
     "execution_count": 55,
     "metadata": {},
     "output_type": "execute_result"
    }
   ],
   "source": [
    "# Decision Tree\n",
    "dt = DecisionTreeClassifier(max_depth=5)\n",
    "dt.fit(X_train, y_train)"
   ]
  },
  {
   "cell_type": "markdown",
   "metadata": {},
   "source": [
    "## 4. Model Evaluation"
   ]
  },
  {
   "cell_type": "code",
   "execution_count": 56,
   "metadata": {},
   "outputs": [
    {
     "name": "stdout",
     "output_type": "stream",
     "text": [
      "--- Logistic Regression ---\n",
      "              precision    recall  f1-score   support\n",
      "\n",
      "           0       0.89      0.99      0.93    162853\n",
      "           1       0.77      0.24      0.36     27296\n",
      "\n",
      "    accuracy                           0.88    190149\n",
      "   macro avg       0.83      0.61      0.65    190149\n",
      "weighted avg       0.87      0.88      0.85    190149\n",
      "\n",
      "--- Decision Tree ---\n",
      "              precision    recall  f1-score   support\n",
      "\n",
      "           0       0.88      0.99      0.93    162853\n",
      "           1       0.80      0.22      0.35     27296\n",
      "\n",
      "    accuracy                           0.88    190149\n",
      "   macro avg       0.84      0.61      0.64    190149\n",
      "weighted avg       0.87      0.88      0.85    190149\n",
      "\n"
     ]
    }
   ],
   "source": [
    "#Evaluating on Test Data\n",
    "models = {'Logistic Regression': lr, 'Decision Tree': dt}\n",
    "\n",
    "for name, model in models.items():\n",
    "    print(f\"--- {name} ---\")\n",
    "    y_pred = model.predict(X_test)\n",
    "    print(classification_report(y_test, y_pred))"
   ]
  },
  {
   "cell_type": "markdown",
   "metadata": {},
   "source": [
    "### Insights"
   ]
  },
  {
   "cell_type": "markdown",
   "metadata": {},
   "source": [
    "Both models perform similarly in terms of overall accuracy (88%), but this is misleading due to class imbalance.\n",
    "\n",
    "The more important class here is \"Injury/Fatal\", which is less frequent but more critical.\n",
    "\n",
    "Logistic Regression has slightly higher recall and f1-score for this minority class. That means it's slightly better at catching actual injury/fatal cases.\n",
    "\n",
    "Decision Tree gives higher precision but lower recall — meaning it's more conservative in predicting injuries."
   ]
  },
  {
   "cell_type": "markdown",
   "metadata": {},
   "source": [
    "#### Best Model So Far: Logistic Regression"
   ]
  },
  {
   "cell_type": "markdown",
   "metadata": {},
   "source": [
    "Logistic regression has a better balance of recall and f1-score for \"Injury/Fatal\", which is the class of interest.\n",
    "\n",
    "It’s also more interpretable and serves well as a baseline model."
   ]
  },
  {
   "cell_type": "markdown",
   "metadata": {},
   "source": [
    "### Modelling Improvements"
   ]
  },
  {
   "cell_type": "markdown",
   "metadata": {},
   "source": [
    "#### 1. Handling Class Imbalance"
   ]
  },
  {
   "cell_type": "markdown",
   "metadata": {},
   "source": [
    "Logistic Regression with class_weight='balanced'\n",
    "This helps the model pay more attention to the minority class."
   ]
  },
  {
   "cell_type": "code",
   "execution_count": 57,
   "metadata": {},
   "outputs": [
    {
     "data": {
      "text/plain": [
       "LogisticRegression(class_weight='balanced', max_iter=1000, random_state=42)"
      ]
     },
     "execution_count": 57,
     "metadata": {},
     "output_type": "execute_result"
    }
   ],
   "source": [
    "# Re-training Logistic Regression with balanced class weights\n",
    "from sklearn.linear_model import LogisticRegression\n",
    "\n",
    "lr_balanced = LogisticRegression(max_iter=1000, class_weight='balanced', random_state=42)\n",
    "lr_balanced.fit(X_train, y_train)"
   ]
  },
  {
   "cell_type": "markdown",
   "metadata": {},
   "source": [
    "#### 2. Hyperparameter Tuning for Decision Tree"
   ]
  },
  {
   "cell_type": "markdown",
   "metadata": {},
   "source": [
    "RandomizedSearchCV to find the best max_depth, min_samples_split, and min_samples_leaf"
   ]
  },
  {
   "cell_type": "code",
   "execution_count": 65,
   "metadata": {},
   "outputs": [
    {
     "name": "stdout",
     "output_type": "stream",
     "text": [
      "Fitting 3 folds for each of 20 candidates, totalling 60 fits\n"
     ]
    },
    {
     "name": "stderr",
     "output_type": "stream",
     "text": [
      "[Parallel(n_jobs=-1)]: Using backend LokyBackend with 8 concurrent workers.\n",
      "[Parallel(n_jobs=-1)]: Done  34 tasks      | elapsed:   46.5s\n",
      "[Parallel(n_jobs=-1)]: Done  60 out of  60 | elapsed:  1.2min finished\n"
     ]
    },
    {
     "name": "stdout",
     "output_type": "stream",
     "text": [
      "Best params: {'max_depth': 8, 'min_samples_leaf': 3, 'min_samples_split': 4}\n"
     ]
    }
   ],
   "source": [
    "from sklearn.tree import DecisionTreeClassifier\n",
    "from sklearn.model_selection import RandomizedSearchCV\n",
    "from scipy.stats import randint\n",
    "\n",
    "dt = DecisionTreeClassifier()\n",
    "param_dist = {\n",
    "    'max_depth': randint(3, 10),\n",
    "    'min_samples_split': randint(2, 10),\n",
    "    'min_samples_leaf': randint(1, 5),\n",
    "}\n",
    "\n",
    "search = RandomizedSearchCV(\n",
    "    dt, \n",
    "    param_dist, \n",
    "    n_iter=20,  \n",
    "    cv=3,       \n",
    "    n_jobs=-1,  \n",
    "    verbose=1\n",
    ")\n",
    "search.fit(X_train, y_train)\n",
    "print(\"Best params:\", search.best_params_)"
   ]
  },
  {
   "cell_type": "code",
   "execution_count": 67,
   "metadata": {},
   "outputs": [],
   "source": [
    "dt_tuned = search.best_estimator_"
   ]
  },
  {
   "cell_type": "markdown",
   "metadata": {},
   "source": [
    " #### 3. Final Model Evaluation"
   ]
  },
  {
   "cell_type": "code",
   "execution_count": 68,
   "metadata": {},
   "outputs": [
    {
     "name": "stdout",
     "output_type": "stream",
     "text": [
      "--- Logistic Regression (balanced) ---\n",
      "              precision    recall  f1-score   support\n",
      "\n",
      "           0       0.93      0.71      0.81    162853\n",
      "           1       0.29      0.69      0.41     27296\n",
      "\n",
      "    accuracy                           0.71    190149\n",
      "   macro avg       0.61      0.70      0.61    190149\n",
      "weighted avg       0.84      0.71      0.75    190149\n",
      "\n",
      "--- Decision Tree (tuned) ---\n",
      "              precision    recall  f1-score   support\n",
      "\n",
      "           0       0.88      0.99      0.93    162853\n",
      "           1       0.80      0.23      0.35     27296\n",
      "\n",
      "    accuracy                           0.88    190149\n",
      "   macro avg       0.84      0.61      0.64    190149\n",
      "weighted avg       0.87      0.88      0.85    190149\n",
      "\n"
     ]
    }
   ],
   "source": [
    "models = {\n",
    "    'Logistic Regression (balanced)': lr_balanced,\n",
    "    'Decision Tree (tuned)': dt_tuned\n",
    "}\n",
    "\n",
    "for name, model in models.items():\n",
    "    print(f\"--- {name} ---\")\n",
    "    y_pred = model.predict(X_test)\n",
    "    print(classification_report(y_test, y_pred))"
   ]
  },
  {
   "cell_type": "markdown",
   "metadata": {},
   "source": [
    "### Conclusions"
   ]
  },
  {
   "cell_type": "markdown",
   "metadata": {},
   "source": [
    "\n",
    "Model Performance:\n",
    "\n",
    "Logistic Regression and Decision Tree models achieved ~88% accuracy, but struggled with predicting Injury/Fatal crashes due to class imbalance.\n",
    "\n",
    "Key Predictors Identified:\n",
    "\n",
    "Factors like Lighting Condition, Weather, Crash Time, and Speed Limit were important in predicting injury outcomes.\n",
    "\n",
    "Class Imbalance Challenge:\n",
    "\n",
    "Most crashes were non-injury, which reduced model recall for Injury/Fatal cases. Future models should apply techniques like SMOTE or class weighting.\n",
    "\n",
    "Next Steps:\n",
    "\n",
    "Use advanced models (e.g. XGBoost), handle imbalance more effectively, and explore deployment via dashboard for real-time insights."
   ]
  },
  {
   "cell_type": "markdown",
   "metadata": {},
   "source": [
    "### Business Recommendations"
   ]
  },
  {
   "cell_type": "markdown",
   "metadata": {},
   "source": [
    "\n",
    "1. Prioritize Resources in High Risk Zones\n",
    "\n",
    "Allocate police patrols, cameras, and signage to crash hotspots identified by model features like crash hour, weather condition, and lighting.\n",
    "\n",
    "2. Implement Time-Specific Interventions\n",
    "\n",
    "Since crash severity is higher at certain hours and days, implement variable speed limits, traffic calming, or public safety messaging during peak risk times.\n",
    "\n",
    "3. Upgrade Traffic Control Infrastructure\n",
    "\n",
    "Enhance or review the effectiveness of traffic control devices (e.g., stop signs, signals) at intersections with frequent injury or fatality crashes.\n",
    "\n",
    "4. Launch Public Awareness Campaigns\n",
    "\n",
    "Use insights on dangerous weather and lighting conditions to run seasonal safety campaigns, educating drivers about increased risks.\n",
    "\n",
    "5. Embed Predictive Models into Planning\n",
    "\n",
    "Use this binary classification model to support data-driven policy—integrate it into planning tools to predict and prevent severe crashes before they happen.\n",
    "\n"
   ]
  },
  {
   "cell_type": "markdown",
   "metadata": {},
   "source": []
  },
  {
   "cell_type": "code",
   "execution_count": null,
   "metadata": {},
   "outputs": [],
   "source": []
  }
 ],
 "metadata": {
  "kernelspec": {
   "display_name": "Python (learn-env)",
   "language": "python",
   "name": "learn-env"
  },
  "language_info": {
   "codemirror_mode": {
    "name": "ipython",
    "version": 3
   },
   "file_extension": ".py",
   "mimetype": "text/x-python",
   "name": "python",
   "nbconvert_exporter": "python",
   "pygments_lexer": "ipython3",
   "version": "3.8.5"
  }
 },
 "nbformat": 4,
 "nbformat_minor": 4
}
